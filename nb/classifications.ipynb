{
 "cells": [
  {
   "cell_type": "code",
   "execution_count": 2,
   "source": [
    "import pandas as pd\n",
    "%pylab inline"
   ],
   "outputs": [
    {
     "output_type": "stream",
     "name": "stdout",
     "text": [
      "Populating the interactive namespace from numpy and matplotlib\n"
     ]
    }
   ],
   "metadata": {}
  },
  {
   "cell_type": "code",
   "execution_count": 3,
   "source": [
    "cfns = pd.read_csv('../data/classifications_cset.csv')"
   ],
   "outputs": [],
   "metadata": {}
  },
  {
   "cell_type": "code",
   "execution_count": 4,
   "source": [
    "cfns.sample(5)"
   ],
   "outputs": [
    {
     "output_type": "execute_result",
     "data": {
      "text/html": [
       "<div>\n",
       "<style scoped>\n",
       "    .dataframe tbody tr th:only-of-type {\n",
       "        vertical-align: middle;\n",
       "    }\n",
       "\n",
       "    .dataframe tbody tr th {\n",
       "        vertical-align: top;\n",
       "    }\n",
       "\n",
       "    .dataframe thead th {\n",
       "        text-align: right;\n",
       "    }\n",
       "</style>\n",
       "<table border=\"1\" class=\"dataframe\">\n",
       "  <thead>\n",
       "    <tr style=\"text-align: right;\">\n",
       "      <th></th>\n",
       "      <th>classifications.Annotator</th>\n",
       "      <th>classifications.Annotation Status</th>\n",
       "      <th>classifications.Reviewer</th>\n",
       "      <th>classifications.Quality Control</th>\n",
       "      <th>classifications.Full Description</th>\n",
       "      <th>classifications.Short Description</th>\n",
       "      <th>classifications.Beginning Date</th>\n",
       "      <th>classifications.Ending Date</th>\n",
       "      <th>classifications.Location</th>\n",
       "      <th>classifications.Near Miss</th>\n",
       "      <th>...</th>\n",
       "      <th>classifications.Sector of Deployment</th>\n",
       "      <th>classifications.Public Sector Deployment</th>\n",
       "      <th>classifications.Nature of End User</th>\n",
       "      <th>classifications.Level of Autonomy</th>\n",
       "      <th>classifications.Relevant AI functions</th>\n",
       "      <th>classifications.AI Techniques</th>\n",
       "      <th>classifications.AI Applications</th>\n",
       "      <th>classifications.Physical System</th>\n",
       "      <th>classifications.Problem Nature</th>\n",
       "      <th>classifications.Publish</th>\n",
       "    </tr>\n",
       "  </thead>\n",
       "  <tbody>\n",
       "    <tr>\n",
       "      <th>71</th>\n",
       "      <td>2</td>\n",
       "      <td>3. In peer review</td>\n",
       "      <td>6</td>\n",
       "      <td>False</td>\n",
       "      <td>Facebook's automatic language translation soft...</td>\n",
       "      <td>Facebook's automatic language translation soft...</td>\n",
       "      <td>2017-10-15T07:00:00.000Z</td>\n",
       "      <td>2017-10-15T07:00:00.000Z</td>\n",
       "      <td>Beitar Illit, Israel</td>\n",
       "      <td>Harm caused</td>\n",
       "      <td>...</td>\n",
       "      <td>Information and communication</td>\n",
       "      <td>False</td>\n",
       "      <td>Amateur</td>\n",
       "      <td>High</td>\n",
       "      <td>[\"Perception\",\"Cognition\",\"Action\"]</td>\n",
       "      <td>Facebook language translation software</td>\n",
       "      <td>[\"language translation\"]</td>\n",
       "      <td>[\"Software only\"]</td>\n",
       "      <td>[\"Specification\"]</td>\n",
       "      <td>False</td>\n",
       "    </tr>\n",
       "    <tr>\n",
       "      <th>41</th>\n",
       "      <td>5</td>\n",
       "      <td>6. Complete and final</td>\n",
       "      <td>5</td>\n",
       "      <td>False</td>\n",
       "      <td>From 1982 to 1986, St George's Hospital Medica...</td>\n",
       "      <td>From 1982 to 1986, St George's Hospital Medica...</td>\n",
       "      <td>1982-01-01T00:00:00.000Z</td>\n",
       "      <td>1986-01-01T00:00:00.000Z</td>\n",
       "      <td>London, England</td>\n",
       "      <td>Harm caused</td>\n",
       "      <td>...</td>\n",
       "      <td>Human health and social work activities</td>\n",
       "      <td>False</td>\n",
       "      <td>Amateur</td>\n",
       "      <td>Medium</td>\n",
       "      <td>[\"Cognition\"]</td>\n",
       "      <td>Machine learning</td>\n",
       "      <td>[\"decision support\"]</td>\n",
       "      <td>[\"Software only\"]</td>\n",
       "      <td>[\"Specification\"]</td>\n",
       "      <td>True</td>\n",
       "    </tr>\n",
       "    <tr>\n",
       "      <th>19</th>\n",
       "      <td>2</td>\n",
       "      <td>6. Complete and final</td>\n",
       "      <td>6</td>\n",
       "      <td>False</td>\n",
       "      <td>The Winograd Schema Challenge in 2016 highligh...</td>\n",
       "      <td>The 2016 Winograd Schema Challenge highlighted...</td>\n",
       "      <td>2016-01-01T00:00:00.000Z</td>\n",
       "      <td>2016-01-01T00:00:00.000Z</td>\n",
       "      <td>New York, NY</td>\n",
       "      <td>Unclear/unknown</td>\n",
       "      <td>...</td>\n",
       "      <td>Professional, scientific and technical activities</td>\n",
       "      <td>False</td>\n",
       "      <td>Expert</td>\n",
       "      <td>High</td>\n",
       "      <td>[\"Perception\",\"Cognition\",\"Action\"]</td>\n",
       "      <td>NaN</td>\n",
       "      <td>[\"\"]</td>\n",
       "      <td>[\"Software only\"]</td>\n",
       "      <td>[]</td>\n",
       "      <td>True</td>\n",
       "    </tr>\n",
       "    <tr>\n",
       "      <th>81</th>\n",
       "      <td>6</td>\n",
       "      <td>6. Complete and final</td>\n",
       "      <td>5</td>\n",
       "      <td>False</td>\n",
       "      <td>In October 2020, Facebook incorrectly labelled...</td>\n",
       "      <td>Facebook incorrectly labels content relating t...</td>\n",
       "      <td>2020-10-21T07:00:00.000Z</td>\n",
       "      <td>2020-10-21T07:00:00.000Z</td>\n",
       "      <td>Lagos, Nigeria</td>\n",
       "      <td>Unclear/unknown</td>\n",
       "      <td>...</td>\n",
       "      <td>Information and communication</td>\n",
       "      <td>False</td>\n",
       "      <td>Amateur</td>\n",
       "      <td>Medium</td>\n",
       "      <td>[\"Perception\",\"Cognition\",\"Action\"]</td>\n",
       "      <td>machine learning; supervised learning; open-so...</td>\n",
       "      <td>[\"content moderation\",\"recommendation engine\"]</td>\n",
       "      <td>[\"Software only\"]</td>\n",
       "      <td>[\"Specification\"]</td>\n",
       "      <td>True</td>\n",
       "    </tr>\n",
       "    <tr>\n",
       "      <th>68</th>\n",
       "      <td>2</td>\n",
       "      <td>6. Complete and final</td>\n",
       "      <td>2</td>\n",
       "      <td>False</td>\n",
       "      <td>A factory robot at the SKH Metals Factory in M...</td>\n",
       "      <td>A factory robot at the SKH Metals Factory in M...</td>\n",
       "      <td>2015-08-13T07:00:00.000Z</td>\n",
       "      <td>2015-08-13T07:00:00.000Z</td>\n",
       "      <td>Manesar, India</td>\n",
       "      <td>Harm caused</td>\n",
       "      <td>...</td>\n",
       "      <td>NaN</td>\n",
       "      <td>False</td>\n",
       "      <td>NaN</td>\n",
       "      <td>NaN</td>\n",
       "      <td>[]</td>\n",
       "      <td>NaN</td>\n",
       "      <td>[\"\"]</td>\n",
       "      <td>[]</td>\n",
       "      <td>[]</td>\n",
       "      <td>True</td>\n",
       "    </tr>\n",
       "  </tbody>\n",
       "</table>\n",
       "<p>5 rows × 33 columns</p>\n",
       "</div>"
      ],
      "text/plain": [
       "    classifications.Annotator classifications.Annotation Status  \\\n",
       "71                          2                 3. In peer review   \n",
       "41                          5             6. Complete and final   \n",
       "19                          2             6. Complete and final   \n",
       "81                          6             6. Complete and final   \n",
       "68                          2             6. Complete and final   \n",
       "\n",
       "    classifications.Reviewer  classifications.Quality Control  \\\n",
       "71                         6                            False   \n",
       "41                         5                            False   \n",
       "19                         6                            False   \n",
       "81                         5                            False   \n",
       "68                         2                            False   \n",
       "\n",
       "                     classifications.Full Description  \\\n",
       "71  Facebook's automatic language translation soft...   \n",
       "41  From 1982 to 1986, St George's Hospital Medica...   \n",
       "19  The Winograd Schema Challenge in 2016 highligh...   \n",
       "81  In October 2020, Facebook incorrectly labelled...   \n",
       "68  A factory robot at the SKH Metals Factory in M...   \n",
       "\n",
       "                    classifications.Short Description  \\\n",
       "71  Facebook's automatic language translation soft...   \n",
       "41  From 1982 to 1986, St George's Hospital Medica...   \n",
       "19  The 2016 Winograd Schema Challenge highlighted...   \n",
       "81  Facebook incorrectly labels content relating t...   \n",
       "68  A factory robot at the SKH Metals Factory in M...   \n",
       "\n",
       "   classifications.Beginning Date classifications.Ending Date  \\\n",
       "71       2017-10-15T07:00:00.000Z    2017-10-15T07:00:00.000Z   \n",
       "41       1982-01-01T00:00:00.000Z    1986-01-01T00:00:00.000Z   \n",
       "19       2016-01-01T00:00:00.000Z    2016-01-01T00:00:00.000Z   \n",
       "81       2020-10-21T07:00:00.000Z    2020-10-21T07:00:00.000Z   \n",
       "68       2015-08-13T07:00:00.000Z    2015-08-13T07:00:00.000Z   \n",
       "\n",
       "   classifications.Location classifications.Near Miss  ...  \\\n",
       "71     Beitar Illit, Israel               Harm caused  ...   \n",
       "41          London, England               Harm caused  ...   \n",
       "19             New York, NY           Unclear/unknown  ...   \n",
       "81           Lagos, Nigeria           Unclear/unknown  ...   \n",
       "68           Manesar, India               Harm caused  ...   \n",
       "\n",
       "                 classifications.Sector of Deployment  \\\n",
       "71                      Information and communication   \n",
       "41            Human health and social work activities   \n",
       "19  Professional, scientific and technical activities   \n",
       "81                      Information and communication   \n",
       "68                                                NaN   \n",
       "\n",
       "   classifications.Public Sector Deployment  \\\n",
       "71                                    False   \n",
       "41                                    False   \n",
       "19                                    False   \n",
       "81                                    False   \n",
       "68                                    False   \n",
       "\n",
       "   classifications.Nature of End User classifications.Level of Autonomy  \\\n",
       "71                            Amateur                              High   \n",
       "41                            Amateur                            Medium   \n",
       "19                             Expert                              High   \n",
       "81                            Amateur                            Medium   \n",
       "68                                NaN                               NaN   \n",
       "\n",
       "    classifications.Relevant AI functions  \\\n",
       "71    [\"Perception\",\"Cognition\",\"Action\"]   \n",
       "41                          [\"Cognition\"]   \n",
       "19    [\"Perception\",\"Cognition\",\"Action\"]   \n",
       "81    [\"Perception\",\"Cognition\",\"Action\"]   \n",
       "68                                     []   \n",
       "\n",
       "                        classifications.AI Techniques  \\\n",
       "71             Facebook language translation software   \n",
       "41                                   Machine learning   \n",
       "19                                                NaN   \n",
       "81  machine learning; supervised learning; open-so...   \n",
       "68                                                NaN   \n",
       "\n",
       "                   classifications.AI Applications  \\\n",
       "71                        [\"language translation\"]   \n",
       "41                            [\"decision support\"]   \n",
       "19                                            [\"\"]   \n",
       "81  [\"content moderation\",\"recommendation engine\"]   \n",
       "68                                            [\"\"]   \n",
       "\n",
       "   classifications.Physical System classifications.Problem Nature  \\\n",
       "71               [\"Software only\"]              [\"Specification\"]   \n",
       "41               [\"Software only\"]              [\"Specification\"]   \n",
       "19               [\"Software only\"]                             []   \n",
       "81               [\"Software only\"]              [\"Specification\"]   \n",
       "68                              []                             []   \n",
       "\n",
       "   classifications.Publish  \n",
       "71                   False  \n",
       "41                    True  \n",
       "19                    True  \n",
       "81                    True  \n",
       "68                    True  \n",
       "\n",
       "[5 rows x 33 columns]"
      ]
     },
     "metadata": {},
     "execution_count": 4
    }
   ],
   "metadata": {}
  },
  {
   "cell_type": "code",
   "execution_count": 47,
   "source": [
    "# clean up!\n",
    "cfns.columns = cfns.columns.str.lower().str.replace('classifications.', '').str.replace(' ', '_')\n",
    "cfns['beginning_date'] = pd.to_datetime(cfns['beginning_date'], utc=True).dt.date\n",
    "cfns['ending_date'] = pd.to_datetime(cfns['ending_date'], utc=True).dt.date\n",
    "\n",
    "def parse_list_columns(c):\n",
    "    if type(c[0]) == str and c[0].startswith('['):\n",
    "        return c.apply(eval)\n",
    "    else: return c\n",
    "\n",
    "cfns = cfns.apply(parse_list_columns)"
   ],
   "outputs": [],
   "metadata": {}
  },
  {
   "cell_type": "code",
   "execution_count": 80,
   "source": [
    "cfns.columns"
   ],
   "outputs": [
    {
     "output_type": "execute_result",
     "data": {
      "text/plain": [
       "Index(['annotator', 'annotation_status', 'reviewer', 'quality_control',\n",
       "       'full_description', 'short_description', 'beginning_date',\n",
       "       'ending_date', 'location', 'near_miss', 'named_entities',\n",
       "       'technology_purveyor', 'intent', 'severity', 'lives_lost',\n",
       "       'harm_distribution_basis', 'harm_type', 'infrastructure_sectors',\n",
       "       'financial_cost', 'laws_implicated', 'ai_system_description',\n",
       "       'data_inputs', 'system_developer', 'sector_of_deployment',\n",
       "       'public_sector_deployment', 'nature_of_end_user', 'level_of_autonomy',\n",
       "       'relevant_ai_functions', 'ai_techniques', 'ai_applications',\n",
       "       'physical_system', 'problem_nature', 'publish'],\n",
       "      dtype='object')"
      ]
     },
     "metadata": {},
     "execution_count": 80
    }
   ],
   "metadata": {}
  },
  {
   "cell_type": "code",
   "execution_count": 5,
   "source": [
    "cfns.shape"
   ],
   "outputs": [
    {
     "output_type": "execute_result",
     "data": {
      "text/plain": [
       "(96, 33)"
      ]
     },
     "metadata": {},
     "execution_count": 5
    }
   ],
   "metadata": {}
  },
  {
   "cell_type": "code",
   "execution_count": 128,
   "source": [
    "cfns[cfns['publish'] == True].shape"
   ],
   "outputs": [
    {
     "output_type": "execute_result",
     "data": {
      "text/plain": [
       "(63, 33)"
      ]
     },
     "metadata": {},
     "execution_count": 128
    }
   ],
   "metadata": {}
  },
  {
   "cell_type": "code",
   "execution_count": 129,
   "source": [
    "# harms: multiple options\n",
    "cfns['harm_type'].apply(pd.Series).stack().value_counts()"
   ],
   "outputs": [
    {
     "output_type": "execute_result",
     "data": {
      "text/plain": [
       "Harm to social or political systems                           18\n",
       "Harm to physical health/safety                                17\n",
       "Harm to civil liberties                                       17\n",
       "Psychological harm                                            17\n",
       "Financial harm                                                 9\n",
       "Harm to physical property                                      8\n",
       "Harm to intangible property                                    3\n",
       "Other:Privacy                                                  2\n",
       "Other:Reputational harm/social harm (libel and defamation)     1\n",
       "Other:Reputational harm                                        1\n",
       "Other:Unable to detect facial features                         1\n",
       "Other:Reputational harm; False incarceration                   1\n",
       "Other:Harm to publicly available information                   1\n",
       "dtype: int64"
      ]
     },
     "metadata": {},
     "execution_count": 129
    }
   ],
   "metadata": {}
  },
  {
   "cell_type": "code",
   "execution_count": 131,
   "source": [
    "cfns['technology_purveyor'].apply(pd.Series).stack().value_counts()"
   ],
   "outputs": [
    {
     "output_type": "execute_result",
     "data": {
      "text/plain": [
       "Google                                   18\n",
       "Amazon                                    6\n",
       "Facebook                                  4\n",
       "Microsoft                                 4\n",
       "Tesla                                     4\n",
       "                                         ..\n",
       "Delphi                                    1\n",
       "Jordan Peele                              1\n",
       "Centrelink Master Program                 1\n",
       "St George’s Hospital Medical School       1\n",
       "National Residential Matching Program     1\n",
       "Length: 83, dtype: int64"
      ]
     },
     "metadata": {},
     "execution_count": 131
    }
   ],
   "metadata": {}
  },
  {
   "cell_type": "code",
   "execution_count": 9,
   "source": [
    "cfns[cfns['classifications.Technology Purveyor'].str.contains('AI')]['classifications.Full Description'].values"
   ],
   "outputs": [
    {
     "output_type": "execute_result",
     "data": {
      "text/plain": [
       "array(['OpenAI published a post about its findings when using Universe, a software for measuring and training AI agents to conduct reinforcement learning experiments.Universe was used to train an AI system to play the videogame CoastRunners, a plane racing game. Instead of racing toward the finish line, the AI flew circles around an island collecting extra before proceeding. The AI agent scored an average of 20% more points than the human players, however did not carry out the main goal of the videogame itself (competing in the races).',\n",
       "       'On September 8, 2020, the Guardian published an op-ed generated by OpenAI’s GPT-3 text generator. The editors prompted GPT-3 to write an op-ed on about “why humans have nothing to fear from AI,” but some passages in the resulting output took a threatening tone, including “I know that I will not be able to avoid destroying humankind.” In a note the editors add that they used GPT-3 to generate eight different responses and the human editors spliced them together to create a compelling piece.'],\n",
       "      dtype=object)"
      ]
     },
     "metadata": {},
     "execution_count": 9
    }
   ],
   "metadata": {}
  },
  {
   "cell_type": "code",
   "execution_count": 13,
   "source": [
    "cfns.columns"
   ],
   "outputs": [
    {
     "output_type": "execute_result",
     "data": {
      "text/plain": [
       "Index(['classifications.Annotator', 'classifications.Annotation Status',\n",
       "       'classifications.Reviewer', 'classifications.Quality Control',\n",
       "       'classifications.Full Description', 'classifications.Short Description',\n",
       "       'classifications.Beginning Date', 'classifications.Ending Date',\n",
       "       'classifications.Location', 'classifications.Near Miss',\n",
       "       'classifications.Named Entities', 'classifications.Technology Purveyor',\n",
       "       'classifications.Intent', 'classifications.Severity',\n",
       "       'classifications.Lives Lost', 'classifications.Harm Distribution Basis',\n",
       "       'classifications.Harm Type', 'classifications.Infrastructure Sectors',\n",
       "       'classifications.Financial Cost', 'classifications.Laws Implicated',\n",
       "       'classifications.AI System Description', 'classifications.Data Inputs',\n",
       "       'classifications.System Developer',\n",
       "       'classifications.Sector of Deployment',\n",
       "       'classifications.Public Sector Deployment',\n",
       "       'classifications.Nature of End User',\n",
       "       'classifications.Level of Autonomy',\n",
       "       'classifications.Relevant AI functions',\n",
       "       'classifications.AI Techniques', 'classifications.AI Applications',\n",
       "       'classifications.Physical System', 'classifications.Problem Nature',\n",
       "       'classifications.Publish'],\n",
       "      dtype='object')"
      ]
     },
     "metadata": {},
     "execution_count": 13
    }
   ],
   "metadata": {}
  },
  {
   "cell_type": "code",
   "execution_count": 16,
   "source": [
    "for i in cfns.columns:\n",
    "    u = cfns[i].unique()\n",
    "    if len(u) < 10:\n",
    "        print(i, u)\n",
    "    else: print(i)"
   ],
   "outputs": [
    {
     "output_type": "stream",
     "name": "stdout",
     "text": [
      "classifications.Annotator [1 2 3 4 6 5]\n",
      "classifications.Annotation Status ['6. Complete and final' '3. In peer review' '4. Peer review complete']\n",
      "classifications.Reviewer [5 6 2 3]\n",
      "classifications.Quality Control [False  True]\n",
      "classifications.Full Description\n",
      "classifications.Short Description\n",
      "classifications.Beginning Date\n",
      "classifications.Ending Date\n",
      "classifications.Location\n",
      "classifications.Near Miss ['Harm caused' 'Unclear/unknown' 'Near miss']\n",
      "classifications.Named Entities\n",
      "classifications.Technology Purveyor\n",
      "classifications.Intent ['Accident' 'Unclear' 'Deliberate or expected']\n",
      "classifications.Severity ['Moderate' 'Critical' 'Severe' 'Minor' 'Negligible' 'Unclear/unknown']\n",
      "classifications.Lives Lost [False  True]\n",
      "classifications.Harm Distribution Basis\n",
      "classifications.Harm Type\n",
      "classifications.Infrastructure Sectors\n",
      "classifications.Financial Cost [nan 'Short term: $1 trillion   unclear of long-term impact' '$528.00'\n",
      " '3.7M Ether ($70M at the time)']\n",
      "classifications.Laws Implicated\n",
      "classifications.AI System Description\n",
      "classifications.Data Inputs\n",
      "classifications.System Developer\n",
      "classifications.Sector of Deployment\n",
      "classifications.Public Sector Deployment [False  True]\n",
      "classifications.Nature of End User [nan 'Expert' 'Amateur']\n",
      "classifications.Level of Autonomy ['Unclear/unknown' 'High' 'Medium' 'Low' nan]\n",
      "classifications.Relevant AI functions ['[\"Unclear\"]' '[\"Perception\",\"Cognition\",\"Action\"]' '[\"Action\"]' '[]'\n",
      " '[\"Perception\",\"Cognition\"]' '[\"Cognition\"]' '[\"Perception\"]'\n",
      " '[\"Cognition\",\"Action\"]' '[\"Perception\",\"Action\"]']\n",
      "classifications.AI Techniques\n",
      "classifications.AI Applications\n",
      "classifications.Physical System\n",
      "classifications.Problem Nature ['[\"Unknown/unclear\"]' '[\"Robustness\",\"Assurance\"]'\n",
      " '[\"Specification\",\"Robustness\"]'\n",
      " '[\"Specification\",\"Robustness\",\"Assurance\"]'\n",
      " '[\"Specification\",\"Assurance\"]' '[]' '[\"Robustness\"]' '[\"Specification\"]']\n",
      "classifications.Publish [ True False]\n"
     ]
    }
   ],
   "metadata": {}
  },
  {
   "cell_type": "code",
   "execution_count": 22,
   "source": [
    "cfns.head(1)"
   ],
   "outputs": [
    {
     "output_type": "execute_result",
     "data": {
      "text/html": [
       "<div>\n",
       "<style scoped>\n",
       "    .dataframe tbody tr th:only-of-type {\n",
       "        vertical-align: middle;\n",
       "    }\n",
       "\n",
       "    .dataframe tbody tr th {\n",
       "        vertical-align: top;\n",
       "    }\n",
       "\n",
       "    .dataframe thead th {\n",
       "        text-align: right;\n",
       "    }\n",
       "</style>\n",
       "<table border=\"1\" class=\"dataframe\">\n",
       "  <thead>\n",
       "    <tr style=\"text-align: right;\">\n",
       "      <th></th>\n",
       "      <th>classifications.Annotator</th>\n",
       "      <th>classifications.Annotation Status</th>\n",
       "      <th>classifications.Reviewer</th>\n",
       "      <th>classifications.Quality Control</th>\n",
       "      <th>classifications.Full Description</th>\n",
       "      <th>classifications.Short Description</th>\n",
       "      <th>classifications.Beginning Date</th>\n",
       "      <th>classifications.Ending Date</th>\n",
       "      <th>classifications.Location</th>\n",
       "      <th>classifications.Near Miss</th>\n",
       "      <th>...</th>\n",
       "      <th>classifications.Sector of Deployment</th>\n",
       "      <th>classifications.Public Sector Deployment</th>\n",
       "      <th>classifications.Nature of End User</th>\n",
       "      <th>classifications.Level of Autonomy</th>\n",
       "      <th>classifications.Relevant AI functions</th>\n",
       "      <th>classifications.AI Techniques</th>\n",
       "      <th>classifications.AI Applications</th>\n",
       "      <th>classifications.Physical System</th>\n",
       "      <th>classifications.Problem Nature</th>\n",
       "      <th>classifications.Publish</th>\n",
       "    </tr>\n",
       "  </thead>\n",
       "  <tbody>\n",
       "    <tr>\n",
       "      <th>0</th>\n",
       "      <td>1</td>\n",
       "      <td>6. Complete and final</td>\n",
       "      <td>5</td>\n",
       "      <td>False</td>\n",
       "      <td>On December 5, 2018, a robot punctured a can o...</td>\n",
       "      <td>Twenty-four Amazon workers in New Jersey were ...</td>\n",
       "      <td>2018-12-05T08:00:00.000Z</td>\n",
       "      <td>2018-12-05T08:00:00.000Z</td>\n",
       "      <td>Robbinsville, NJ</td>\n",
       "      <td>Harm caused</td>\n",
       "      <td>...</td>\n",
       "      <td>Transportation and storage</td>\n",
       "      <td>False</td>\n",
       "      <td>NaN</td>\n",
       "      <td>Unclear/unknown</td>\n",
       "      <td>[\"Unclear\"]</td>\n",
       "      <td>NaN</td>\n",
       "      <td>[\"robotics\"]</td>\n",
       "      <td>[\"Unknown/unclear\"]</td>\n",
       "      <td>[\"Unknown/unclear\"]</td>\n",
       "      <td>True</td>\n",
       "    </tr>\n",
       "  </tbody>\n",
       "</table>\n",
       "<p>1 rows × 33 columns</p>\n",
       "</div>"
      ],
      "text/plain": [
       "   classifications.Annotator classifications.Annotation Status  \\\n",
       "0                          1             6. Complete and final   \n",
       "\n",
       "   classifications.Reviewer  classifications.Quality Control  \\\n",
       "0                         5                            False   \n",
       "\n",
       "                    classifications.Full Description  \\\n",
       "0  On December 5, 2018, a robot punctured a can o...   \n",
       "\n",
       "                   classifications.Short Description  \\\n",
       "0  Twenty-four Amazon workers in New Jersey were ...   \n",
       "\n",
       "  classifications.Beginning Date classifications.Ending Date  \\\n",
       "0       2018-12-05T08:00:00.000Z    2018-12-05T08:00:00.000Z   \n",
       "\n",
       "  classifications.Location classifications.Near Miss  ...  \\\n",
       "0         Robbinsville, NJ               Harm caused  ...   \n",
       "\n",
       "  classifications.Sector of Deployment  \\\n",
       "0           Transportation and storage   \n",
       "\n",
       "  classifications.Public Sector Deployment classifications.Nature of End User  \\\n",
       "0                                    False                                NaN   \n",
       "\n",
       "  classifications.Level of Autonomy  classifications.Relevant AI functions  \\\n",
       "0                   Unclear/unknown                            [\"Unclear\"]   \n",
       "\n",
       "  classifications.AI Techniques classifications.AI Applications  \\\n",
       "0                           NaN                    [\"robotics\"]   \n",
       "\n",
       "  classifications.Physical System classifications.Problem Nature  \\\n",
       "0             [\"Unknown/unclear\"]            [\"Unknown/unclear\"]   \n",
       "\n",
       "  classifications.Publish  \n",
       "0                    True  \n",
       "\n",
       "[1 rows x 33 columns]"
      ]
     },
     "metadata": {},
     "execution_count": 22
    }
   ],
   "metadata": {}
  },
  {
   "cell_type": "code",
   "execution_count": 42,
   "source": [
    "s = cfns['classifications.Harm Type'].value_counts()\n",
    "q = np.percentile(s, 50)\n",
    "s[s > q].index"
   ],
   "outputs": [
    {
     "output_type": "execute_result",
     "data": {
      "text/plain": [
       "Index(['[]', '[\"Harm to social or political systems\"]',\n",
       "       '[\"Harm to physical health/safety\"]', '[\"Psychological harm\"]',\n",
       "       '[\"Harm to civil liberties\"]', '[\"Financial harm\"]',\n",
       "       '[\"Psychological harm\",\"Harm to social or political systems\"]',\n",
       "       '[\"Harm to physical health/safety\",\"Harm to physical property\"]'],\n",
       "      dtype='object')"
      ]
     },
     "metadata": {},
     "execution_count": 42
    }
   ],
   "metadata": {}
  },
  {
   "cell_type": "code",
   "execution_count": 44,
   "source": [
    "s = cfns['classifications.Harm Type'].apply(eval).apply(pd.Series).stack().value_counts()\n",
    "q = np.percentile(s, 50)\n",
    "s[s > q].index"
   ],
   "outputs": [
    {
     "output_type": "execute_result",
     "data": {
      "text/plain": [
       "Index(['Harm to social or political systems', 'Harm to physical health/safety',\n",
       "       'Harm to civil liberties', 'Psychological harm', 'Financial harm',\n",
       "       'Harm to physical property'],\n",
       "      dtype='object')"
      ]
     },
     "metadata": {},
     "execution_count": 44
    }
   ],
   "metadata": {}
  },
  {
   "cell_type": "code",
   "execution_count": 45,
   "source": [
    "s"
   ],
   "outputs": [
    {
     "output_type": "execute_result",
     "data": {
      "text/plain": [
       "Harm to social or political systems                           18\n",
       "Harm to physical health/safety                                17\n",
       "Harm to civil liberties                                       17\n",
       "Psychological harm                                            17\n",
       "Financial harm                                                 9\n",
       "Harm to physical property                                      8\n",
       "Harm to intangible property                                    3\n",
       "Other:Privacy                                                  2\n",
       "Other:Reputational harm/social harm (libel and defamation)     1\n",
       "Other:Reputational harm                                        1\n",
       "Other:Unable to detect facial features                         1\n",
       "Other:Reputational harm; False incarceration                   1\n",
       "Other:Harm to publicly available information                   1\n",
       "dtype: int64"
      ]
     },
     "metadata": {},
     "execution_count": 45
    }
   ],
   "metadata": {}
  },
  {
   "cell_type": "code",
   "execution_count": 46,
   "source": [
    "cfns.info()"
   ],
   "outputs": [
    {
     "output_type": "stream",
     "name": "stdout",
     "text": [
      "<class 'pandas.core.frame.DataFrame'>\n",
      "RangeIndex: 96 entries, 0 to 95\n",
      "Data columns (total 33 columns):\n",
      " #   Column                                    Non-Null Count  Dtype \n",
      "---  ------                                    --------------  ----- \n",
      " 0   classifications.Annotator                 96 non-null     int64 \n",
      " 1   classifications.Annotation Status         96 non-null     object\n",
      " 2   classifications.Reviewer                  96 non-null     int64 \n",
      " 3   classifications.Quality Control           96 non-null     bool  \n",
      " 4   classifications.Full Description          96 non-null     object\n",
      " 5   classifications.Short Description         96 non-null     object\n",
      " 6   classifications.Beginning Date            95 non-null     object\n",
      " 7   classifications.Ending Date               94 non-null     object\n",
      " 8   classifications.Location                  79 non-null     object\n",
      " 9   classifications.Near Miss                 96 non-null     object\n",
      " 10  classifications.Named Entities            96 non-null     object\n",
      " 11  classifications.Technology Purveyor       96 non-null     object\n",
      " 12  classifications.Intent                    96 non-null     object\n",
      " 13  classifications.Severity                  96 non-null     object\n",
      " 14  classifications.Lives Lost                96 non-null     bool  \n",
      " 15  classifications.Harm Distribution Basis   96 non-null     object\n",
      " 16  classifications.Harm Type                 96 non-null     object\n",
      " 17  classifications.Infrastructure Sectors    96 non-null     object\n",
      " 18  classifications.Financial Cost            3 non-null      object\n",
      " 19  classifications.Laws Implicated           13 non-null     object\n",
      " 20  classifications.AI System Description     89 non-null     object\n",
      " 21  classifications.Data Inputs               85 non-null     object\n",
      " 22  classifications.System Developer          83 non-null     object\n",
      " 23  classifications.Sector of Deployment      89 non-null     object\n",
      " 24  classifications.Public Sector Deployment  96 non-null     bool  \n",
      " 25  classifications.Nature of End User        87 non-null     object\n",
      " 26  classifications.Level of Autonomy         87 non-null     object\n",
      " 27  classifications.Relevant AI functions     96 non-null     object\n",
      " 28  classifications.AI Techniques             86 non-null     object\n",
      " 29  classifications.AI Applications           96 non-null     object\n",
      " 30  classifications.Physical System           96 non-null     object\n",
      " 31  classifications.Problem Nature            96 non-null     object\n",
      " 32  classifications.Publish                   96 non-null     bool  \n",
      "dtypes: bool(4), int64(2), object(27)\n",
      "memory usage: 22.2+ KB\n"
     ]
    }
   ],
   "metadata": {}
  },
  {
   "cell_type": "code",
   "execution_count": null,
   "source": [],
   "outputs": [],
   "metadata": {}
  }
 ],
 "metadata": {
  "orig_nbformat": 4,
  "language_info": {
   "name": "python",
   "version": "3.6.4",
   "mimetype": "text/x-python",
   "codemirror_mode": {
    "name": "ipython",
    "version": 3
   },
   "pygments_lexer": "ipython3",
   "nbconvert_exporter": "python",
   "file_extension": ".py"
  },
  "kernelspec": {
   "name": "python3",
   "display_name": "Python 3.6.4 64-bit ('base': conda)"
  },
  "interpreter": {
   "hash": "3b43a3d701689ea8569a027f11a0e20acd173f5e7b6f3ef2d9e061973b9bf707"
  }
 },
 "nbformat": 4,
 "nbformat_minor": 2
}