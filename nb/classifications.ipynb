{
 "cells": [
  {
   "cell_type": "code",
   "execution_count": 30,
   "metadata": {},
   "outputs": [
    {
     "name": "stdout",
     "output_type": "stream",
     "text": [
      "Populating the interactive namespace from numpy and matplotlib\n"
     ]
    }
   ],
   "source": [
    "import pandas as pd\n",
    "%pylab inline"
   ]
  },
  {
   "cell_type": "code",
   "execution_count": 31,
   "metadata": {},
   "outputs": [],
   "source": [
    "cfns = pd.read_csv('../data/classifications_cset.csv')"
   ]
  },
  {
   "cell_type": "code",
   "execution_count": 32,
   "metadata": {},
   "outputs": [
    {
     "data": {
      "text/html": [
       "<div>\n",
       "<style scoped>\n",
       "    .dataframe tbody tr th:only-of-type {\n",
       "        vertical-align: middle;\n",
       "    }\n",
       "\n",
       "    .dataframe tbody tr th {\n",
       "        vertical-align: top;\n",
       "    }\n",
       "\n",
       "    .dataframe thead th {\n",
       "        text-align: right;\n",
       "    }\n",
       "</style>\n",
       "<table border=\"1\" class=\"dataframe\">\n",
       "  <thead>\n",
       "    <tr style=\"text-align: right;\">\n",
       "      <th></th>\n",
       "      <th>classifications.Annotator</th>\n",
       "      <th>classifications.Annotation Status</th>\n",
       "      <th>classifications.Reviewer</th>\n",
       "      <th>classifications.Quality Control</th>\n",
       "      <th>classifications.Full Description</th>\n",
       "      <th>classifications.Short Description</th>\n",
       "      <th>classifications.Beginning Date</th>\n",
       "      <th>classifications.Ending Date</th>\n",
       "      <th>classifications.Location</th>\n",
       "      <th>classifications.Near Miss</th>\n",
       "      <th>...</th>\n",
       "      <th>classifications.Sector of Deployment</th>\n",
       "      <th>classifications.Public Sector Deployment</th>\n",
       "      <th>classifications.Nature of End User</th>\n",
       "      <th>classifications.Level of Autonomy</th>\n",
       "      <th>classifications.Relevant AI functions</th>\n",
       "      <th>classifications.AI Techniques</th>\n",
       "      <th>classifications.AI Applications</th>\n",
       "      <th>classifications.Physical System</th>\n",
       "      <th>classifications.Problem Nature</th>\n",
       "      <th>classifications.Publish</th>\n",
       "    </tr>\n",
       "  </thead>\n",
       "  <tbody>\n",
       "    <tr>\n",
       "      <th>71</th>\n",
       "      <td>2</td>\n",
       "      <td>3. In peer review</td>\n",
       "      <td>6</td>\n",
       "      <td>False</td>\n",
       "      <td>Facebook's automatic language translation soft...</td>\n",
       "      <td>Facebook's automatic language translation soft...</td>\n",
       "      <td>2017-10-15T07:00:00.000Z</td>\n",
       "      <td>2017-10-15T07:00:00.000Z</td>\n",
       "      <td>Beitar Illit, Israel</td>\n",
       "      <td>Harm caused</td>\n",
       "      <td>...</td>\n",
       "      <td>Information and communication</td>\n",
       "      <td>False</td>\n",
       "      <td>Amateur</td>\n",
       "      <td>High</td>\n",
       "      <td>[\"Perception\",\"Cognition\",\"Action\"]</td>\n",
       "      <td>Facebook language translation software</td>\n",
       "      <td>[\"language translation\"]</td>\n",
       "      <td>[\"Software only\"]</td>\n",
       "      <td>[\"Specification\"]</td>\n",
       "      <td>False</td>\n",
       "    </tr>\n",
       "    <tr>\n",
       "      <th>32</th>\n",
       "      <td>2</td>\n",
       "      <td>6. Complete and final</td>\n",
       "      <td>6</td>\n",
       "      <td>False</td>\n",
       "      <td>There are multiple reports of Amazon Alexa pro...</td>\n",
       "      <td>There are multiple reports of Amazon Alexa pro...</td>\n",
       "      <td>2018-01-01T00:00:00.000Z</td>\n",
       "      <td>2018-01-01T00:00:00.000Z</td>\n",
       "      <td>NaN</td>\n",
       "      <td>Harm caused</td>\n",
       "      <td>...</td>\n",
       "      <td>Information and communication</td>\n",
       "      <td>False</td>\n",
       "      <td>Amateur</td>\n",
       "      <td>Medium</td>\n",
       "      <td>[\"Perception\",\"Cognition\",\"Action\"]</td>\n",
       "      <td>Amazon Alexa; natural language processing; vir...</td>\n",
       "      <td>[\"voice recognition\",\"natural language process...</td>\n",
       "      <td>[\"Consumer device\"]</td>\n",
       "      <td>[\"Robustness\",\"Assurance\"]</td>\n",
       "      <td>True</td>\n",
       "    </tr>\n",
       "    <tr>\n",
       "      <th>93</th>\n",
       "      <td>5</td>\n",
       "      <td>3. In peer review</td>\n",
       "      <td>6</td>\n",
       "      <td>False</td>\n",
       "      <td>In January 2021, HireVue announced it would re...</td>\n",
       "      <td>In January 2021, HireVue removed the controver...</td>\n",
       "      <td>2019-01-01T00:00:00.000Z</td>\n",
       "      <td>1/2021</td>\n",
       "      <td>Global</td>\n",
       "      <td>Unclear/unknown</td>\n",
       "      <td>...</td>\n",
       "      <td>Administrative and support service activities</td>\n",
       "      <td>False</td>\n",
       "      <td>Amateur</td>\n",
       "      <td>Medium</td>\n",
       "      <td>[\"Perception\",\"Cognition\"]</td>\n",
       "      <td>facial recognition; expression tracking</td>\n",
       "      <td>[\"decision support\",\"psychological inference\"]</td>\n",
       "      <td>[\"Software only\"]</td>\n",
       "      <td>[\"Specification\"]</td>\n",
       "      <td>False</td>\n",
       "    </tr>\n",
       "    <tr>\n",
       "      <th>41</th>\n",
       "      <td>5</td>\n",
       "      <td>6. Complete and final</td>\n",
       "      <td>5</td>\n",
       "      <td>False</td>\n",
       "      <td>From 1982 to 1986, St George's Hospital Medica...</td>\n",
       "      <td>From 1982 to 1986, St George's Hospital Medica...</td>\n",
       "      <td>1982-01-01T00:00:00.000Z</td>\n",
       "      <td>1986-01-01T00:00:00.000Z</td>\n",
       "      <td>London, England</td>\n",
       "      <td>Harm caused</td>\n",
       "      <td>...</td>\n",
       "      <td>Human health and social work activities</td>\n",
       "      <td>False</td>\n",
       "      <td>Amateur</td>\n",
       "      <td>Medium</td>\n",
       "      <td>[\"Cognition\"]</td>\n",
       "      <td>Machine learning</td>\n",
       "      <td>[\"decision support\"]</td>\n",
       "      <td>[\"Software only\"]</td>\n",
       "      <td>[\"Specification\"]</td>\n",
       "      <td>True</td>\n",
       "    </tr>\n",
       "    <tr>\n",
       "      <th>79</th>\n",
       "      <td>5</td>\n",
       "      <td>6. Complete and final</td>\n",
       "      <td>5</td>\n",
       "      <td>False</td>\n",
       "      <td>Scottish soccer team Inverness Caledonian This...</td>\n",
       "      <td>In a Scottish soccer match the AI-enabled ball...</td>\n",
       "      <td>2020-10-24T07:00:00.000Z</td>\n",
       "      <td>2020-10-24T07:00:00.000Z</td>\n",
       "      <td>Inverness, Scotland, UK</td>\n",
       "      <td>Harm caused</td>\n",
       "      <td>...</td>\n",
       "      <td>Arts, entertainment and recreation</td>\n",
       "      <td>False</td>\n",
       "      <td>Amateur</td>\n",
       "      <td>High</td>\n",
       "      <td>[\"Perception\",\"Cognition\",\"Action\"]</td>\n",
       "      <td>supervised learning</td>\n",
       "      <td>[\"image classification\",\"image recognition\"]</td>\n",
       "      <td>[\"Consumer device\"]</td>\n",
       "      <td>[\"Robustness\"]</td>\n",
       "      <td>True</td>\n",
       "    </tr>\n",
       "  </tbody>\n",
       "</table>\n",
       "<p>5 rows × 33 columns</p>\n",
       "</div>"
      ],
      "text/plain": [
       "    classifications.Annotator classifications.Annotation Status  \\\n",
       "71                          2                 3. In peer review   \n",
       "32                          2             6. Complete and final   \n",
       "93                          5                 3. In peer review   \n",
       "41                          5             6. Complete and final   \n",
       "79                          5             6. Complete and final   \n",
       "\n",
       "    classifications.Reviewer  classifications.Quality Control  \\\n",
       "71                         6                            False   \n",
       "32                         6                            False   \n",
       "93                         6                            False   \n",
       "41                         5                            False   \n",
       "79                         5                            False   \n",
       "\n",
       "                     classifications.Full Description  \\\n",
       "71  Facebook's automatic language translation soft...   \n",
       "32  There are multiple reports of Amazon Alexa pro...   \n",
       "93  In January 2021, HireVue announced it would re...   \n",
       "41  From 1982 to 1986, St George's Hospital Medica...   \n",
       "79  Scottish soccer team Inverness Caledonian This...   \n",
       "\n",
       "                    classifications.Short Description  \\\n",
       "71  Facebook's automatic language translation soft...   \n",
       "32  There are multiple reports of Amazon Alexa pro...   \n",
       "93  In January 2021, HireVue removed the controver...   \n",
       "41  From 1982 to 1986, St George's Hospital Medica...   \n",
       "79  In a Scottish soccer match the AI-enabled ball...   \n",
       "\n",
       "   classifications.Beginning Date classifications.Ending Date  \\\n",
       "71       2017-10-15T07:00:00.000Z    2017-10-15T07:00:00.000Z   \n",
       "32       2018-01-01T00:00:00.000Z    2018-01-01T00:00:00.000Z   \n",
       "93       2019-01-01T00:00:00.000Z                      1/2021   \n",
       "41       1982-01-01T00:00:00.000Z    1986-01-01T00:00:00.000Z   \n",
       "79       2020-10-24T07:00:00.000Z    2020-10-24T07:00:00.000Z   \n",
       "\n",
       "   classifications.Location classifications.Near Miss  ...  \\\n",
       "71     Beitar Illit, Israel               Harm caused  ...   \n",
       "32                      NaN               Harm caused  ...   \n",
       "93                   Global           Unclear/unknown  ...   \n",
       "41          London, England               Harm caused  ...   \n",
       "79  Inverness, Scotland, UK               Harm caused  ...   \n",
       "\n",
       "             classifications.Sector of Deployment  \\\n",
       "71                  Information and communication   \n",
       "32                  Information and communication   \n",
       "93  Administrative and support service activities   \n",
       "41        Human health and social work activities   \n",
       "79             Arts, entertainment and recreation   \n",
       "\n",
       "   classifications.Public Sector Deployment  \\\n",
       "71                                    False   \n",
       "32                                    False   \n",
       "93                                    False   \n",
       "41                                    False   \n",
       "79                                    False   \n",
       "\n",
       "   classifications.Nature of End User classifications.Level of Autonomy  \\\n",
       "71                            Amateur                              High   \n",
       "32                            Amateur                            Medium   \n",
       "93                            Amateur                            Medium   \n",
       "41                            Amateur                            Medium   \n",
       "79                            Amateur                              High   \n",
       "\n",
       "    classifications.Relevant AI functions  \\\n",
       "71    [\"Perception\",\"Cognition\",\"Action\"]   \n",
       "32    [\"Perception\",\"Cognition\",\"Action\"]   \n",
       "93             [\"Perception\",\"Cognition\"]   \n",
       "41                          [\"Cognition\"]   \n",
       "79    [\"Perception\",\"Cognition\",\"Action\"]   \n",
       "\n",
       "                        classifications.AI Techniques  \\\n",
       "71             Facebook language translation software   \n",
       "32  Amazon Alexa; natural language processing; vir...   \n",
       "93            facial recognition; expression tracking   \n",
       "41                                   Machine learning   \n",
       "79                                supervised learning   \n",
       "\n",
       "                      classifications.AI Applications  \\\n",
       "71                           [\"language translation\"]   \n",
       "32  [\"voice recognition\",\"natural language process...   \n",
       "93     [\"decision support\",\"psychological inference\"]   \n",
       "41                               [\"decision support\"]   \n",
       "79       [\"image classification\",\"image recognition\"]   \n",
       "\n",
       "   classifications.Physical System classifications.Problem Nature  \\\n",
       "71               [\"Software only\"]              [\"Specification\"]   \n",
       "32             [\"Consumer device\"]     [\"Robustness\",\"Assurance\"]   \n",
       "93               [\"Software only\"]              [\"Specification\"]   \n",
       "41               [\"Software only\"]              [\"Specification\"]   \n",
       "79             [\"Consumer device\"]                 [\"Robustness\"]   \n",
       "\n",
       "   classifications.Publish  \n",
       "71                   False  \n",
       "32                    True  \n",
       "93                   False  \n",
       "41                    True  \n",
       "79                    True  \n",
       "\n",
       "[5 rows x 33 columns]"
      ]
     },
     "execution_count": 32,
     "metadata": {},
     "output_type": "execute_result"
    }
   ],
   "source": [
    "cfns.sample(5)"
   ]
  },
  {
   "cell_type": "code",
   "execution_count": 33,
   "metadata": {},
   "outputs": [],
   "source": [
    "# clean up!\n",
    "cfns.insert(0, 'incident', cfns.index + 1)\n",
    "cfns.columns = cfns.columns.str.lower().str.replace('classifications.', '').str.replace(' ', '_')\n",
    "cfns['beginning_date'] = pd.to_datetime(cfns['beginning_date'], utc=True).dt.date\n",
    "cfns['ending_date'] = pd.to_datetime(cfns['ending_date'], utc=True).dt.date\n",
    "\n",
    "def parse_list_columns(column):\n",
    "    if type(column[0]) == str and column[0].startswith('['):\n",
    "        return column.apply(eval)\n",
    "    else: return column\n",
    "\n",
    "cfns = cfns.apply(parse_list_columns)"
   ]
  },
  {
   "cell_type": "code",
   "execution_count": 34,
   "metadata": {},
   "outputs": [],
   "source": [
    "# cfns.to_csv('../data/classifications_processed.csv', index=False)"
   ]
  },
  {
   "cell_type": "code",
   "execution_count": 35,
   "metadata": {},
   "outputs": [
    {
     "data": {
      "text/plain": [
       "Index(['incident', 'annotator', 'annotation_status', 'reviewer',\n",
       "       'quality_control', 'full_description', 'short_description',\n",
       "       'beginning_date', 'ending_date', 'location', 'near_miss',\n",
       "       'named_entities', 'technology_purveyor', 'intent', 'severity',\n",
       "       'lives_lost', 'harm_distribution_basis', 'harm_type',\n",
       "       'infrastructure_sectors', 'financial_cost', 'laws_implicated',\n",
       "       'ai_system_description', 'data_inputs', 'system_developer',\n",
       "       'sector_of_deployment', 'public_sector_deployment',\n",
       "       'nature_of_end_user', 'level_of_autonomy', 'relevant_ai_functions',\n",
       "       'ai_techniques', 'ai_applications', 'physical_system', 'problem_nature',\n",
       "       'publish'],\n",
       "      dtype='object')"
      ]
     },
     "execution_count": 35,
     "metadata": {},
     "output_type": "execute_result"
    }
   ],
   "source": [
    "cfns.columns"
   ]
  },
  {
   "cell_type": "code",
   "execution_count": 36,
   "metadata": {},
   "outputs": [
    {
     "data": {
      "text/plain": [
       "(96, 34)"
      ]
     },
     "execution_count": 36,
     "metadata": {},
     "output_type": "execute_result"
    }
   ],
   "source": [
    "cfns.shape"
   ]
  },
  {
   "cell_type": "code",
   "execution_count": 48,
   "metadata": {},
   "outputs": [
    {
     "name": "stdout",
     "output_type": "stream",
     "text": [
      "incident 96\n",
      "annotator [1 2 3 4 6 5]\n",
      "annotation_status ['6. Complete and final' '3. In peer review' '4. Peer review complete']\n",
      "reviewer [5 6 2 3]\n",
      "quality_control [False  True]\n",
      "full_description 96\n",
      "short_description 96\n",
      "beginning_date 71\n",
      "ending_date 66\n",
      "location 58\n",
      "near_miss ['Harm caused' 'Unclear/unknown' 'Near miss']\n",
      "named_entities list\n",
      "technology_purveyor list\n",
      "intent ['Accident' 'Unclear' 'Deliberate or expected']\n",
      "severity ['Moderate' 'Critical' 'Severe' 'Minor' 'Negligible' 'Unclear/unknown']\n",
      "lives_lost [False  True]\n",
      "harm_distribution_basis list\n",
      "harm_type list\n",
      "infrastructure_sectors list\n",
      "financial_cost [nan 'Short term: $1 trillion   unclear of long-term impact' '$528.00'\n",
      " '3.7M Ether ($70M at the time)']\n",
      "laws_implicated 14\n",
      "ai_system_description 89\n",
      "data_inputs 81\n",
      "system_developer 54\n",
      "sector_of_deployment 13\n",
      "public_sector_deployment [False  True]\n",
      "nature_of_end_user [nan 'Expert' 'Amateur']\n",
      "level_of_autonomy ['Unclear/unknown' 'High' 'Medium' 'Low' nan]\n",
      "relevant_ai_functions list\n",
      "ai_techniques 64\n",
      "ai_applications list\n",
      "physical_system list\n",
      "problem_nature list\n",
      "publish [ True False]\n"
     ]
    }
   ],
   "source": [
    "for col in cfns.columns:\n",
    "    if type(cfns[col][0]) != list:\n",
    "        u = cfns[col].unique()\n",
    "        if len(u) < 10:\n",
    "            print(col, u)\n",
    "        else: print(col, len(u))\n",
    "    else: print(col, 'list')"
   ]
  },
  {
   "cell_type": "code",
   "execution_count": 53,
   "metadata": {},
   "outputs": [
    {
     "data": {
      "text/plain": [
       "0                                              [Amazon]\n",
       "1                                            [Lion Air]\n",
       "2                               [Uber, Rafaela Vasquez]\n",
       "3                                                    []\n",
       "4                                  [Microsoft, Twitter]\n",
       "                            ...                        \n",
       "91                                           [Facebook]\n",
       "92                                          [Deliveroo]\n",
       "93                                           [HireView]\n",
       "94    [Houston Independent School District, SAS Inst...\n",
       "95                                    [Google, YouTube]\n",
       "Name: technology_purveyor, Length: 96, dtype: object"
      ]
     },
     "execution_count": 53,
     "metadata": {},
     "output_type": "execute_result"
    }
   ],
   "source": [
    "cfns['technology_purveyor']"
   ]
  },
  {
   "cell_type": "code",
   "execution_count": 13,
   "metadata": {},
   "outputs": [
    {
     "ename": "KeyError",
     "evalue": "'classifications.Harm Type'",
     "output_type": "error",
     "traceback": [
      "\u001b[0;31m---------------------------------------------------------------------------\u001b[0m",
      "\u001b[0;31mKeyError\u001b[0m                                  Traceback (most recent call last)",
      "\u001b[0;32m~/anaconda3/lib/python3.6/site-packages/pandas/core/indexes/base.py\u001b[0m in \u001b[0;36mget_loc\u001b[0;34m(self, key, method, tolerance)\u001b[0m\n\u001b[1;32m   2897\u001b[0m             \u001b[0;32mtry\u001b[0m\u001b[0;34m:\u001b[0m\u001b[0;34m\u001b[0m\u001b[0m\n\u001b[0;32m-> 2898\u001b[0;31m                 \u001b[0;32mreturn\u001b[0m \u001b[0mself\u001b[0m\u001b[0;34m.\u001b[0m\u001b[0m_engine\u001b[0m\u001b[0;34m.\u001b[0m\u001b[0mget_loc\u001b[0m\u001b[0;34m(\u001b[0m\u001b[0mcasted_key\u001b[0m\u001b[0;34m)\u001b[0m\u001b[0;34m\u001b[0m\u001b[0m\n\u001b[0m\u001b[1;32m   2899\u001b[0m             \u001b[0;32mexcept\u001b[0m \u001b[0mKeyError\u001b[0m \u001b[0;32mas\u001b[0m \u001b[0merr\u001b[0m\u001b[0;34m:\u001b[0m\u001b[0;34m\u001b[0m\u001b[0m\n",
      "\u001b[0;32mpandas/_libs/index.pyx\u001b[0m in \u001b[0;36mpandas._libs.index.IndexEngine.get_loc\u001b[0;34m()\u001b[0m\n",
      "\u001b[0;32mpandas/_libs/index.pyx\u001b[0m in \u001b[0;36mpandas._libs.index.IndexEngine.get_loc\u001b[0;34m()\u001b[0m\n",
      "\u001b[0;32mpandas/_libs/hashtable_class_helper.pxi\u001b[0m in \u001b[0;36mpandas._libs.hashtable.PyObjectHashTable.get_item\u001b[0;34m()\u001b[0m\n",
      "\u001b[0;32mpandas/_libs/hashtable_class_helper.pxi\u001b[0m in \u001b[0;36mpandas._libs.hashtable.PyObjectHashTable.get_item\u001b[0;34m()\u001b[0m\n",
      "\u001b[0;31mKeyError\u001b[0m: 'classifications.Harm Type'",
      "\nThe above exception was the direct cause of the following exception:\n",
      "\u001b[0;31mKeyError\u001b[0m                                  Traceback (most recent call last)",
      "\u001b[0;32m<ipython-input-13-27010e4e70ed>\u001b[0m in \u001b[0;36m<module>\u001b[0;34m()\u001b[0m\n\u001b[0;32m----> 1\u001b[0;31m \u001b[0ms\u001b[0m \u001b[0;34m=\u001b[0m \u001b[0mcfns\u001b[0m\u001b[0;34m[\u001b[0m\u001b[0;34m'classifications.Harm Type'\u001b[0m\u001b[0;34m]\u001b[0m\u001b[0;34m.\u001b[0m\u001b[0mapply\u001b[0m\u001b[0;34m(\u001b[0m\u001b[0meval\u001b[0m\u001b[0;34m)\u001b[0m\u001b[0;34m.\u001b[0m\u001b[0mapply\u001b[0m\u001b[0;34m(\u001b[0m\u001b[0mpd\u001b[0m\u001b[0;34m.\u001b[0m\u001b[0mSeries\u001b[0m\u001b[0;34m)\u001b[0m\u001b[0;34m.\u001b[0m\u001b[0mstack\u001b[0m\u001b[0;34m(\u001b[0m\u001b[0;34m)\u001b[0m\u001b[0;34m.\u001b[0m\u001b[0mvalue_counts\u001b[0m\u001b[0;34m(\u001b[0m\u001b[0;34m)\u001b[0m\u001b[0;34m\u001b[0m\u001b[0m\n\u001b[0m\u001b[1;32m      2\u001b[0m \u001b[0mq\u001b[0m \u001b[0;34m=\u001b[0m \u001b[0mnp\u001b[0m\u001b[0;34m.\u001b[0m\u001b[0mpercentile\u001b[0m\u001b[0;34m(\u001b[0m\u001b[0ms\u001b[0m\u001b[0;34m,\u001b[0m \u001b[0;36m50\u001b[0m\u001b[0;34m)\u001b[0m\u001b[0;34m\u001b[0m\u001b[0m\n\u001b[1;32m      3\u001b[0m \u001b[0ms\u001b[0m\u001b[0;34m[\u001b[0m\u001b[0ms\u001b[0m \u001b[0;34m>\u001b[0m \u001b[0mq\u001b[0m\u001b[0;34m]\u001b[0m\u001b[0;34m.\u001b[0m\u001b[0mindex\u001b[0m\u001b[0;34m\u001b[0m\u001b[0m\n",
      "\u001b[0;32m~/anaconda3/lib/python3.6/site-packages/pandas/core/frame.py\u001b[0m in \u001b[0;36m__getitem__\u001b[0;34m(self, key)\u001b[0m\n\u001b[1;32m   2904\u001b[0m             \u001b[0;32mif\u001b[0m \u001b[0mself\u001b[0m\u001b[0;34m.\u001b[0m\u001b[0mcolumns\u001b[0m\u001b[0;34m.\u001b[0m\u001b[0mnlevels\u001b[0m \u001b[0;34m>\u001b[0m \u001b[0;36m1\u001b[0m\u001b[0;34m:\u001b[0m\u001b[0;34m\u001b[0m\u001b[0m\n\u001b[1;32m   2905\u001b[0m                 \u001b[0;32mreturn\u001b[0m \u001b[0mself\u001b[0m\u001b[0;34m.\u001b[0m\u001b[0m_getitem_multilevel\u001b[0m\u001b[0;34m(\u001b[0m\u001b[0mkey\u001b[0m\u001b[0;34m)\u001b[0m\u001b[0;34m\u001b[0m\u001b[0m\n\u001b[0;32m-> 2906\u001b[0;31m             \u001b[0mindexer\u001b[0m \u001b[0;34m=\u001b[0m \u001b[0mself\u001b[0m\u001b[0;34m.\u001b[0m\u001b[0mcolumns\u001b[0m\u001b[0;34m.\u001b[0m\u001b[0mget_loc\u001b[0m\u001b[0;34m(\u001b[0m\u001b[0mkey\u001b[0m\u001b[0;34m)\u001b[0m\u001b[0;34m\u001b[0m\u001b[0m\n\u001b[0m\u001b[1;32m   2907\u001b[0m             \u001b[0;32mif\u001b[0m \u001b[0mis_integer\u001b[0m\u001b[0;34m(\u001b[0m\u001b[0mindexer\u001b[0m\u001b[0;34m)\u001b[0m\u001b[0;34m:\u001b[0m\u001b[0;34m\u001b[0m\u001b[0m\n\u001b[1;32m   2908\u001b[0m                 \u001b[0mindexer\u001b[0m \u001b[0;34m=\u001b[0m \u001b[0;34m[\u001b[0m\u001b[0mindexer\u001b[0m\u001b[0;34m]\u001b[0m\u001b[0;34m\u001b[0m\u001b[0m\n",
      "\u001b[0;32m~/anaconda3/lib/python3.6/site-packages/pandas/core/indexes/base.py\u001b[0m in \u001b[0;36mget_loc\u001b[0;34m(self, key, method, tolerance)\u001b[0m\n\u001b[1;32m   2898\u001b[0m                 \u001b[0;32mreturn\u001b[0m \u001b[0mself\u001b[0m\u001b[0;34m.\u001b[0m\u001b[0m_engine\u001b[0m\u001b[0;34m.\u001b[0m\u001b[0mget_loc\u001b[0m\u001b[0;34m(\u001b[0m\u001b[0mcasted_key\u001b[0m\u001b[0;34m)\u001b[0m\u001b[0;34m\u001b[0m\u001b[0m\n\u001b[1;32m   2899\u001b[0m             \u001b[0;32mexcept\u001b[0m \u001b[0mKeyError\u001b[0m \u001b[0;32mas\u001b[0m \u001b[0merr\u001b[0m\u001b[0;34m:\u001b[0m\u001b[0;34m\u001b[0m\u001b[0m\n\u001b[0;32m-> 2900\u001b[0;31m                 \u001b[0;32mraise\u001b[0m \u001b[0mKeyError\u001b[0m\u001b[0;34m(\u001b[0m\u001b[0mkey\u001b[0m\u001b[0;34m)\u001b[0m \u001b[0;32mfrom\u001b[0m \u001b[0merr\u001b[0m\u001b[0;34m\u001b[0m\u001b[0m\n\u001b[0m\u001b[1;32m   2901\u001b[0m \u001b[0;34m\u001b[0m\u001b[0m\n\u001b[1;32m   2902\u001b[0m         \u001b[0;32mif\u001b[0m \u001b[0mtolerance\u001b[0m \u001b[0;32mis\u001b[0m \u001b[0;32mnot\u001b[0m \u001b[0;32mNone\u001b[0m\u001b[0;34m:\u001b[0m\u001b[0;34m\u001b[0m\u001b[0m\n",
      "\u001b[0;31mKeyError\u001b[0m: 'classifications.Harm Type'"
     ]
    }
   ],
   "source": [
    "s = cfns['classifications.Harm Type'].apply(eval).apply(pd.Series).stack().value_counts()\n",
    "q = np.percentile(s, 50)\n",
    "s[s > q].index"
   ]
  },
  {
   "cell_type": "code",
   "execution_count": 14,
   "metadata": {},
   "outputs": [
    {
     "ename": "NameError",
     "evalue": "name 's' is not defined",
     "output_type": "error",
     "traceback": [
      "\u001b[0;31m---------------------------------------------------------------------------\u001b[0m",
      "\u001b[0;31mNameError\u001b[0m                                 Traceback (most recent call last)",
      "\u001b[0;32m<ipython-input-14-ded5ba42480f>\u001b[0m in \u001b[0;36m<module>\u001b[0;34m()\u001b[0m\n\u001b[0;32m----> 1\u001b[0;31m \u001b[0ms\u001b[0m\u001b[0;34m\u001b[0m\u001b[0m\n\u001b[0m",
      "\u001b[0;31mNameError\u001b[0m: name 's' is not defined"
     ]
    }
   ],
   "source": [
    "s"
   ]
  },
  {
   "cell_type": "code",
   "execution_count": 15,
   "metadata": {},
   "outputs": [
    {
     "name": "stdout",
     "output_type": "stream",
     "text": [
      "<class 'pandas.core.frame.DataFrame'>\n",
      "RangeIndex: 96 entries, 0 to 95\n",
      "Data columns (total 33 columns):\n",
      " #   Column                    Non-Null Count  Dtype \n",
      "---  ------                    --------------  ----- \n",
      " 0   annotator                 96 non-null     int64 \n",
      " 1   annotation_status         96 non-null     object\n",
      " 2   reviewer                  96 non-null     int64 \n",
      " 3   quality_control           96 non-null     bool  \n",
      " 4   full_description          96 non-null     object\n",
      " 5   short_description         96 non-null     object\n",
      " 6   beginning_date            95 non-null     object\n",
      " 7   ending_date               94 non-null     object\n",
      " 8   location                  79 non-null     object\n",
      " 9   near_miss                 96 non-null     object\n",
      " 10  named_entities            96 non-null     object\n",
      " 11  technology_purveyor       96 non-null     object\n",
      " 12  intent                    96 non-null     object\n",
      " 13  severity                  96 non-null     object\n",
      " 14  lives_lost                96 non-null     bool  \n",
      " 15  harm_distribution_basis   96 non-null     object\n",
      " 16  harm_type                 96 non-null     object\n",
      " 17  infrastructure_sectors    96 non-null     object\n",
      " 18  financial_cost            3 non-null      object\n",
      " 19  laws_implicated           13 non-null     object\n",
      " 20  ai_system_description     89 non-null     object\n",
      " 21  data_inputs               85 non-null     object\n",
      " 22  system_developer          83 non-null     object\n",
      " 23  sector_of_deployment      89 non-null     object\n",
      " 24  public_sector_deployment  96 non-null     bool  \n",
      " 25  nature_of_end_user        87 non-null     object\n",
      " 26  level_of_autonomy         87 non-null     object\n",
      " 27  relevant_ai_functions     96 non-null     object\n",
      " 28  ai_techniques             86 non-null     object\n",
      " 29  ai_applications           96 non-null     object\n",
      " 30  physical_system           96 non-null     object\n",
      " 31  problem_nature            96 non-null     object\n",
      " 32  publish                   96 non-null     bool  \n",
      "dtypes: bool(4), int64(2), object(27)\n",
      "memory usage: 22.2+ KB\n"
     ]
    }
   ],
   "source": [
    "cfns.info()"
   ]
  },
  {
   "cell_type": "code",
   "execution_count": null,
   "metadata": {},
   "outputs": [],
   "source": []
  }
 ],
 "metadata": {
  "interpreter": {
   "hash": "56aea8ebaf76f7f196d2db5e8a268a910aadc3b544f7ba289fa452b9f4417b9b"
  },
  "kernelspec": {
   "display_name": "Python 3.6.4 64-bit ('base': conda)",
   "name": "python3"
  },
  "language_info": {
   "codemirror_mode": {
    "name": "ipython",
    "version": 3
   },
   "file_extension": ".py",
   "mimetype": "text/x-python",
   "name": "python",
   "nbconvert_exporter": "python",
   "pygments_lexer": "ipython3",
   "version": "3.6.4"
  },
  "widgets": {
   "application/vnd.jupyter.widget-state+json": {
    "state": {},
    "version_major": 2,
    "version_minor": 0
   }
  }
 },
 "nbformat": 4,
 "nbformat_minor": 4
}
