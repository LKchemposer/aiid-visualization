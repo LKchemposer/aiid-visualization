{
 "cells": [
  {
   "cell_type": "code",
   "execution_count": 1,
   "metadata": {},
   "outputs": [
    {
     "name": "stdout",
     "output_type": "stream",
     "text": [
      "Populating the interactive namespace from numpy and matplotlib\n"
     ]
    }
   ],
   "source": [
    "import pandas as pd\n",
    "%pylab inline"
   ]
  },
  {
   "cell_type": "code",
   "execution_count": 2,
   "metadata": {},
   "outputs": [],
   "source": [
    "cfns = pd.read_csv('../data/classifications_cset.csv')"
   ]
  },
  {
   "cell_type": "code",
   "execution_count": 3,
   "metadata": {},
   "outputs": [
    {
     "data": {
      "text/html": [
       "<div>\n",
       "<style scoped>\n",
       "    .dataframe tbody tr th:only-of-type {\n",
       "        vertical-align: middle;\n",
       "    }\n",
       "\n",
       "    .dataframe tbody tr th {\n",
       "        vertical-align: top;\n",
       "    }\n",
       "\n",
       "    .dataframe thead th {\n",
       "        text-align: right;\n",
       "    }\n",
       "</style>\n",
       "<table border=\"1\" class=\"dataframe\">\n",
       "  <thead>\n",
       "    <tr style=\"text-align: right;\">\n",
       "      <th></th>\n",
       "      <th>classifications.Annotator</th>\n",
       "      <th>classifications.Annotation Status</th>\n",
       "      <th>classifications.Reviewer</th>\n",
       "      <th>classifications.Quality Control</th>\n",
       "      <th>classifications.Full Description</th>\n",
       "      <th>classifications.Short Description</th>\n",
       "      <th>classifications.Beginning Date</th>\n",
       "      <th>classifications.Ending Date</th>\n",
       "      <th>classifications.Location</th>\n",
       "      <th>classifications.Near Miss</th>\n",
       "      <th>...</th>\n",
       "      <th>classifications.Sector of Deployment</th>\n",
       "      <th>classifications.Public Sector Deployment</th>\n",
       "      <th>classifications.Nature of End User</th>\n",
       "      <th>classifications.Level of Autonomy</th>\n",
       "      <th>classifications.Relevant AI functions</th>\n",
       "      <th>classifications.AI Techniques</th>\n",
       "      <th>classifications.AI Applications</th>\n",
       "      <th>classifications.Physical System</th>\n",
       "      <th>classifications.Problem Nature</th>\n",
       "      <th>classifications.Publish</th>\n",
       "    </tr>\n",
       "  </thead>\n",
       "  <tbody>\n",
       "    <tr>\n",
       "      <th>41</th>\n",
       "      <td>5</td>\n",
       "      <td>6. Complete and final</td>\n",
       "      <td>5</td>\n",
       "      <td>False</td>\n",
       "      <td>From 1982 to 1986, St George's Hospital Medica...</td>\n",
       "      <td>From 1982 to 1986, St George's Hospital Medica...</td>\n",
       "      <td>1982-01-01T00:00:00.000Z</td>\n",
       "      <td>1986-01-01T00:00:00.000Z</td>\n",
       "      <td>London, England</td>\n",
       "      <td>Harm caused</td>\n",
       "      <td>...</td>\n",
       "      <td>Human health and social work activities</td>\n",
       "      <td>False</td>\n",
       "      <td>Amateur</td>\n",
       "      <td>Medium</td>\n",
       "      <td>[\"Cognition\"]</td>\n",
       "      <td>Machine learning</td>\n",
       "      <td>[\"decision support\"]</td>\n",
       "      <td>[\"Software only\"]</td>\n",
       "      <td>[\"Specification\"]</td>\n",
       "      <td>True</td>\n",
       "    </tr>\n",
       "    <tr>\n",
       "      <th>79</th>\n",
       "      <td>5</td>\n",
       "      <td>6. Complete and final</td>\n",
       "      <td>5</td>\n",
       "      <td>False</td>\n",
       "      <td>Scottish soccer team Inverness Caledonian This...</td>\n",
       "      <td>In a Scottish soccer match the AI-enabled ball...</td>\n",
       "      <td>2020-10-24T07:00:00.000Z</td>\n",
       "      <td>2020-10-24T07:00:00.000Z</td>\n",
       "      <td>Inverness, Scotland, UK</td>\n",
       "      <td>Harm caused</td>\n",
       "      <td>...</td>\n",
       "      <td>Arts, entertainment and recreation</td>\n",
       "      <td>False</td>\n",
       "      <td>Amateur</td>\n",
       "      <td>High</td>\n",
       "      <td>[\"Perception\",\"Cognition\",\"Action\"]</td>\n",
       "      <td>supervised learning</td>\n",
       "      <td>[\"image classification\",\"image recognition\"]</td>\n",
       "      <td>[\"Consumer device\"]</td>\n",
       "      <td>[\"Robustness\"]</td>\n",
       "      <td>True</td>\n",
       "    </tr>\n",
       "    <tr>\n",
       "      <th>51</th>\n",
       "      <td>6</td>\n",
       "      <td>6. Complete and final</td>\n",
       "      <td>6</td>\n",
       "      <td>False</td>\n",
       "      <td>On Jun 6, 2016, 18 year-old Kabir Alli pointed...</td>\n",
       "      <td>On June 6, 2016, Google image searches of \"thr...</td>\n",
       "      <td>2016-06-06T07:00:00.000Z</td>\n",
       "      <td>2016-06-06T07:00:00.000Z</td>\n",
       "      <td>Global</td>\n",
       "      <td>Unclear/unknown</td>\n",
       "      <td>...</td>\n",
       "      <td>Information and communication</td>\n",
       "      <td>False</td>\n",
       "      <td>Amateur</td>\n",
       "      <td>High</td>\n",
       "      <td>[\"Perception\",\"Cognition\",\"Action\"]</td>\n",
       "      <td>open-source, machine learning</td>\n",
       "      <td>[\"image classification\",\"search engine\",\"conte...</td>\n",
       "      <td>[\"Software only\"]</td>\n",
       "      <td>[\"Robustness\",\"Assurance\"]</td>\n",
       "      <td>True</td>\n",
       "    </tr>\n",
       "    <tr>\n",
       "      <th>94</th>\n",
       "      <td>5</td>\n",
       "      <td>4. Peer review complete</td>\n",
       "      <td>6</td>\n",
       "      <td>False</td>\n",
       "      <td>On May 4, 2017, a U.S. federal judge advanced ...</td>\n",
       "      <td>On May 4, 2017, a U.S. federal judge advanced ...</td>\n",
       "      <td>2011-01-01T00:00:00.000Z</td>\n",
       "      <td>2016-01-01T00:00:00.000Z</td>\n",
       "      <td>Houston, TX</td>\n",
       "      <td>Harm caused</td>\n",
       "      <td>...</td>\n",
       "      <td>Education</td>\n",
       "      <td>True</td>\n",
       "      <td>Amateur</td>\n",
       "      <td>Low</td>\n",
       "      <td>[\"Cognition\"]</td>\n",
       "      <td>machine learning</td>\n",
       "      <td>[\"data analytics\",\"decision support\"]</td>\n",
       "      <td>[\"Software only\"]</td>\n",
       "      <td>[\"Specification\"]</td>\n",
       "      <td>False</td>\n",
       "    </tr>\n",
       "    <tr>\n",
       "      <th>55</th>\n",
       "      <td>5</td>\n",
       "      <td>4. Peer review complete</td>\n",
       "      <td>6</td>\n",
       "      <td>False</td>\n",
       "      <td>In July 2016, Australia’s Department of Human ...</td>\n",
       "      <td>In July 2016, Australia’s Department of Human ...</td>\n",
       "      <td>7/2016</td>\n",
       "      <td>2017-01-01T00:00:00.000Z</td>\n",
       "      <td>Australia</td>\n",
       "      <td>Harm caused</td>\n",
       "      <td>...</td>\n",
       "      <td>Public administration and defence</td>\n",
       "      <td>True</td>\n",
       "      <td>Amateur</td>\n",
       "      <td>High</td>\n",
       "      <td>[\"Cognition\",\"Action\"]</td>\n",
       "      <td>Unclear</td>\n",
       "      <td>[\"decision support\"]</td>\n",
       "      <td>[\"Software only\"]</td>\n",
       "      <td>[\"Unknown/unclear\"]</td>\n",
       "      <td>False</td>\n",
       "    </tr>\n",
       "  </tbody>\n",
       "</table>\n",
       "<p>5 rows × 33 columns</p>\n",
       "</div>"
      ],
      "text/plain": [
       "    classifications.Annotator classifications.Annotation Status  \\\n",
       "41                          5             6. Complete and final   \n",
       "79                          5             6. Complete and final   \n",
       "51                          6             6. Complete and final   \n",
       "94                          5           4. Peer review complete   \n",
       "55                          5           4. Peer review complete   \n",
       "\n",
       "    classifications.Reviewer  classifications.Quality Control  \\\n",
       "41                         5                            False   \n",
       "79                         5                            False   \n",
       "51                         6                            False   \n",
       "94                         6                            False   \n",
       "55                         6                            False   \n",
       "\n",
       "                     classifications.Full Description  \\\n",
       "41  From 1982 to 1986, St George's Hospital Medica...   \n",
       "79  Scottish soccer team Inverness Caledonian This...   \n",
       "51  On Jun 6, 2016, 18 year-old Kabir Alli pointed...   \n",
       "94  On May 4, 2017, a U.S. federal judge advanced ...   \n",
       "55  In July 2016, Australia’s Department of Human ...   \n",
       "\n",
       "                    classifications.Short Description  \\\n",
       "41  From 1982 to 1986, St George's Hospital Medica...   \n",
       "79  In a Scottish soccer match the AI-enabled ball...   \n",
       "51  On June 6, 2016, Google image searches of \"thr...   \n",
       "94  On May 4, 2017, a U.S. federal judge advanced ...   \n",
       "55  In July 2016, Australia’s Department of Human ...   \n",
       "\n",
       "   classifications.Beginning Date classifications.Ending Date  \\\n",
       "41       1982-01-01T00:00:00.000Z    1986-01-01T00:00:00.000Z   \n",
       "79       2020-10-24T07:00:00.000Z    2020-10-24T07:00:00.000Z   \n",
       "51       2016-06-06T07:00:00.000Z    2016-06-06T07:00:00.000Z   \n",
       "94       2011-01-01T00:00:00.000Z    2016-01-01T00:00:00.000Z   \n",
       "55                         7/2016    2017-01-01T00:00:00.000Z   \n",
       "\n",
       "   classifications.Location classifications.Near Miss  ...  \\\n",
       "41          London, England               Harm caused  ...   \n",
       "79  Inverness, Scotland, UK               Harm caused  ...   \n",
       "51                   Global           Unclear/unknown  ...   \n",
       "94              Houston, TX               Harm caused  ...   \n",
       "55                Australia               Harm caused  ...   \n",
       "\n",
       "       classifications.Sector of Deployment  \\\n",
       "41  Human health and social work activities   \n",
       "79       Arts, entertainment and recreation   \n",
       "51            Information and communication   \n",
       "94                                Education   \n",
       "55        Public administration and defence   \n",
       "\n",
       "   classifications.Public Sector Deployment  \\\n",
       "41                                    False   \n",
       "79                                    False   \n",
       "51                                    False   \n",
       "94                                     True   \n",
       "55                                     True   \n",
       "\n",
       "   classifications.Nature of End User classifications.Level of Autonomy  \\\n",
       "41                            Amateur                            Medium   \n",
       "79                            Amateur                              High   \n",
       "51                            Amateur                              High   \n",
       "94                            Amateur                               Low   \n",
       "55                            Amateur                              High   \n",
       "\n",
       "    classifications.Relevant AI functions  classifications.AI Techniques  \\\n",
       "41                          [\"Cognition\"]               Machine learning   \n",
       "79    [\"Perception\",\"Cognition\",\"Action\"]            supervised learning   \n",
       "51    [\"Perception\",\"Cognition\",\"Action\"]  open-source, machine learning   \n",
       "94                          [\"Cognition\"]               machine learning   \n",
       "55                 [\"Cognition\",\"Action\"]                        Unclear   \n",
       "\n",
       "                      classifications.AI Applications  \\\n",
       "41                               [\"decision support\"]   \n",
       "79       [\"image classification\",\"image recognition\"]   \n",
       "51  [\"image classification\",\"search engine\",\"conte...   \n",
       "94              [\"data analytics\",\"decision support\"]   \n",
       "55                               [\"decision support\"]   \n",
       "\n",
       "   classifications.Physical System classifications.Problem Nature  \\\n",
       "41               [\"Software only\"]              [\"Specification\"]   \n",
       "79             [\"Consumer device\"]                 [\"Robustness\"]   \n",
       "51               [\"Software only\"]     [\"Robustness\",\"Assurance\"]   \n",
       "94               [\"Software only\"]              [\"Specification\"]   \n",
       "55               [\"Software only\"]            [\"Unknown/unclear\"]   \n",
       "\n",
       "   classifications.Publish  \n",
       "41                    True  \n",
       "79                    True  \n",
       "51                    True  \n",
       "94                   False  \n",
       "55                   False  \n",
       "\n",
       "[5 rows x 33 columns]"
      ]
     },
     "execution_count": 3,
     "metadata": {},
     "output_type": "execute_result"
    }
   ],
   "source": [
    "cfns.sample(5)"
   ]
  },
  {
   "cell_type": "code",
   "execution_count": 4,
   "metadata": {},
   "outputs": [],
   "source": [
    "# clean up!\n",
    "cfns.insert(0, 'incident', cfns.index + 1)\n",
    "cfns.columns = cfns.columns.str.lower().str.replace('classifications.', '').str.replace(' ', '_')\n",
    "cfns['beginning_date'] = pd.to_datetime(cfns['beginning_date'], utc=True).dt.date\n",
    "cfns['ending_date'] = pd.to_datetime(cfns['ending_date'], utc=True).dt.date\n",
    "\n",
    "def parse_list_columns(column):\n",
    "    if type(column[0]) == str and column[0].startswith('['):\n",
    "        return column.apply(eval)\n",
    "    else: return column\n",
    "\n",
    "cfns = cfns.apply(parse_list_columns)"
   ]
  },
  {
   "cell_type": "code",
   "execution_count": null,
   "metadata": {},
   "outputs": [],
   "source": [
    "# cfns.to_csv('../data/classifications_processed.csv', index=False)"
   ]
  },
  {
   "cell_type": "code",
   "execution_count": 5,
   "metadata": {},
   "outputs": [
    {
     "data": {
      "text/plain": [
       "Index(['annotator', 'annotation_status', 'reviewer', 'quality_control',\n",
       "       'full_description', 'short_description', 'beginning_date',\n",
       "       'ending_date', 'location', 'near_miss', 'named_entities',\n",
       "       'technology_purveyor', 'intent', 'severity', 'lives_lost',\n",
       "       'harm_distribution_basis', 'harm_type', 'infrastructure_sectors',\n",
       "       'financial_cost', 'laws_implicated', 'ai_system_description',\n",
       "       'data_inputs', 'system_developer', 'sector_of_deployment',\n",
       "       'public_sector_deployment', 'nature_of_end_user', 'level_of_autonomy',\n",
       "       'relevant_ai_functions', 'ai_techniques', 'ai_applications',\n",
       "       'physical_system', 'problem_nature', 'publish'],\n",
       "      dtype='object')"
      ]
     },
     "execution_count": 5,
     "metadata": {},
     "output_type": "execute_result"
    }
   ],
   "source": [
    "cfns.columns"
   ]
  },
  {
   "cell_type": "code",
   "execution_count": 6,
   "metadata": {},
   "outputs": [
    {
     "data": {
      "text/plain": [
       "(96, 33)"
      ]
     },
     "execution_count": 6,
     "metadata": {},
     "output_type": "execute_result"
    }
   ],
   "source": [
    "cfns.shape"
   ]
  },
  {
   "cell_type": "code",
   "execution_count": 7,
   "metadata": {},
   "outputs": [
    {
     "data": {
      "text/plain": [
       "(63, 33)"
      ]
     },
     "execution_count": 7,
     "metadata": {},
     "output_type": "execute_result"
    }
   ],
   "source": [
    "cfns[cfns['publish'] == True].shape"
   ]
  },
  {
   "cell_type": "code",
   "execution_count": 8,
   "metadata": {},
   "outputs": [
    {
     "data": {
      "text/plain": [
       "Harm to social or political systems                           18\n",
       "Harm to civil liberties                                       17\n",
       "Harm to physical health/safety                                17\n",
       "Psychological harm                                            17\n",
       "Financial harm                                                 9\n",
       "Harm to physical property                                      8\n",
       "Harm to intangible property                                    3\n",
       "Other:Privacy                                                  2\n",
       "Other:Reputational harm/social harm (libel and defamation)     1\n",
       "Other:Unable to detect facial features                         1\n",
       "Other:Reputational harm                                        1\n",
       "Other:Harm to publicly available information                   1\n",
       "Other:Reputational harm; False incarceration                   1\n",
       "dtype: int64"
      ]
     },
     "execution_count": 8,
     "metadata": {},
     "output_type": "execute_result"
    }
   ],
   "source": [
    "# harms: multiple options\n",
    "cfns['harm_type'].apply(pd.Series).stack().value_counts()"
   ]
  },
  {
   "cell_type": "code",
   "execution_count": 9,
   "metadata": {},
   "outputs": [
    {
     "data": {
      "text/plain": [
       "Google                                       18\n",
       "Amazon                                        6\n",
       "Microsoft                                     4\n",
       "Tesla                                         4\n",
       "Facebook                                      4\n",
       "                                             ..\n",
       "Instant Checkmate                             1\n",
       "Nicos Isaak                                   1\n",
       "Oakland Police Department                     1\n",
       "The Decentralized Autonomous Organization     1\n",
       "Stanford Medical Center                       1\n",
       "Length: 83, dtype: int64"
      ]
     },
     "execution_count": 9,
     "metadata": {},
     "output_type": "execute_result"
    }
   ],
   "source": [
    "cfns['technology_purveyor'].apply(pd.Series).stack().value_counts()"
   ]
  },
  {
   "cell_type": "code",
   "execution_count": 10,
   "metadata": {},
   "outputs": [
    {
     "data": {
      "text/plain": [
       "Index(['annotator', 'annotation_status', 'reviewer', 'quality_control',\n",
       "       'full_description', 'short_description', 'beginning_date',\n",
       "       'ending_date', 'location', 'near_miss', 'named_entities',\n",
       "       'technology_purveyor', 'intent', 'severity', 'lives_lost',\n",
       "       'harm_distribution_basis', 'harm_type', 'infrastructure_sectors',\n",
       "       'financial_cost', 'laws_implicated', 'ai_system_description',\n",
       "       'data_inputs', 'system_developer', 'sector_of_deployment',\n",
       "       'public_sector_deployment', 'nature_of_end_user', 'level_of_autonomy',\n",
       "       'relevant_ai_functions', 'ai_techniques', 'ai_applications',\n",
       "       'physical_system', 'problem_nature', 'publish'],\n",
       "      dtype='object')"
      ]
     },
     "execution_count": 10,
     "metadata": {},
     "output_type": "execute_result"
    }
   ],
   "source": [
    "cfns.columns"
   ]
  },
  {
   "cell_type": "code",
   "execution_count": 11,
   "metadata": {},
   "outputs": [
    {
     "name": "stdout",
     "output_type": "stream",
     "text": [
      "annotator [1 2 3 4 6 5]\n",
      "annotation_status ['6. Complete and final' '3. In peer review' '4. Peer review complete']\n",
      "reviewer [5 6 2 3]\n",
      "quality_control [False  True]\n",
      "full_description\n",
      "short_description\n",
      "beginning_date\n",
      "ending_date\n",
      "location\n",
      "near_miss ['Harm caused' 'Unclear/unknown' 'Near miss']\n"
     ]
    },
    {
     "ename": "TypeError",
     "evalue": "unhashable type: 'list'",
     "output_type": "error",
     "traceback": [
      "\u001b[0;31m---------------------------------------------------------------------------\u001b[0m",
      "\u001b[0;31mTypeError\u001b[0m                                 Traceback (most recent call last)",
      "\u001b[0;32m<ipython-input-11-eb7bf5347a5d>\u001b[0m in \u001b[0;36m<module>\u001b[0;34m()\u001b[0m\n\u001b[1;32m      1\u001b[0m \u001b[0;32mfor\u001b[0m \u001b[0mi\u001b[0m \u001b[0;32min\u001b[0m \u001b[0mcfns\u001b[0m\u001b[0;34m.\u001b[0m\u001b[0mcolumns\u001b[0m\u001b[0;34m:\u001b[0m\u001b[0;34m\u001b[0m\u001b[0m\n\u001b[0;32m----> 2\u001b[0;31m     \u001b[0mu\u001b[0m \u001b[0;34m=\u001b[0m \u001b[0mcfns\u001b[0m\u001b[0;34m[\u001b[0m\u001b[0mi\u001b[0m\u001b[0;34m]\u001b[0m\u001b[0;34m.\u001b[0m\u001b[0munique\u001b[0m\u001b[0;34m(\u001b[0m\u001b[0;34m)\u001b[0m\u001b[0;34m\u001b[0m\u001b[0m\n\u001b[0m\u001b[1;32m      3\u001b[0m     \u001b[0;32mif\u001b[0m \u001b[0mlen\u001b[0m\u001b[0;34m(\u001b[0m\u001b[0mu\u001b[0m\u001b[0;34m)\u001b[0m \u001b[0;34m<\u001b[0m \u001b[0;36m10\u001b[0m\u001b[0;34m:\u001b[0m\u001b[0;34m\u001b[0m\u001b[0m\n\u001b[1;32m      4\u001b[0m         \u001b[0mprint\u001b[0m\u001b[0;34m(\u001b[0m\u001b[0mi\u001b[0m\u001b[0;34m,\u001b[0m \u001b[0mu\u001b[0m\u001b[0;34m)\u001b[0m\u001b[0;34m\u001b[0m\u001b[0m\n\u001b[1;32m      5\u001b[0m     \u001b[0;32melse\u001b[0m\u001b[0;34m:\u001b[0m \u001b[0mprint\u001b[0m\u001b[0;34m(\u001b[0m\u001b[0mi\u001b[0m\u001b[0;34m)\u001b[0m\u001b[0;34m\u001b[0m\u001b[0m\n",
      "\u001b[0;32m~/anaconda3/lib/python3.6/site-packages/pandas/core/series.py\u001b[0m in \u001b[0;36munique\u001b[0;34m(self)\u001b[0m\n\u001b[1;32m   1879\u001b[0m         \u001b[0mCategories\u001b[0m \u001b[0;34m(\u001b[0m\u001b[0;36m3\u001b[0m\u001b[0;34m,\u001b[0m \u001b[0mobject\u001b[0m\u001b[0;34m)\u001b[0m\u001b[0;34m:\u001b[0m \u001b[0;34m[\u001b[0m\u001b[0;34m'a'\u001b[0m \u001b[0;34m<\u001b[0m \u001b[0;34m'b'\u001b[0m \u001b[0;34m<\u001b[0m \u001b[0;34m'c'\u001b[0m\u001b[0;34m]\u001b[0m\u001b[0;34m\u001b[0m\u001b[0m\n\u001b[1;32m   1880\u001b[0m         \"\"\"\n\u001b[0;32m-> 1881\u001b[0;31m         \u001b[0mresult\u001b[0m \u001b[0;34m=\u001b[0m \u001b[0msuper\u001b[0m\u001b[0;34m(\u001b[0m\u001b[0;34m)\u001b[0m\u001b[0;34m.\u001b[0m\u001b[0munique\u001b[0m\u001b[0;34m(\u001b[0m\u001b[0;34m)\u001b[0m\u001b[0;34m\u001b[0m\u001b[0m\n\u001b[0m\u001b[1;32m   1882\u001b[0m         \u001b[0;32mreturn\u001b[0m \u001b[0mresult\u001b[0m\u001b[0;34m\u001b[0m\u001b[0m\n\u001b[1;32m   1883\u001b[0m \u001b[0;34m\u001b[0m\u001b[0m\n",
      "\u001b[0;32m~/anaconda3/lib/python3.6/site-packages/pandas/core/base.py\u001b[0m in \u001b[0;36munique\u001b[0;34m(self)\u001b[0m\n\u001b[1;32m   1263\u001b[0m                     \u001b[0mresult\u001b[0m \u001b[0;34m=\u001b[0m \u001b[0mnp\u001b[0m\u001b[0;34m.\u001b[0m\u001b[0masarray\u001b[0m\u001b[0;34m(\u001b[0m\u001b[0mresult\u001b[0m\u001b[0;34m)\u001b[0m\u001b[0;34m\u001b[0m\u001b[0m\n\u001b[1;32m   1264\u001b[0m         \u001b[0;32melse\u001b[0m\u001b[0;34m:\u001b[0m\u001b[0;34m\u001b[0m\u001b[0m\n\u001b[0;32m-> 1265\u001b[0;31m             \u001b[0mresult\u001b[0m \u001b[0;34m=\u001b[0m \u001b[0munique1d\u001b[0m\u001b[0;34m(\u001b[0m\u001b[0mvalues\u001b[0m\u001b[0;34m)\u001b[0m\u001b[0;34m\u001b[0m\u001b[0m\n\u001b[0m\u001b[1;32m   1266\u001b[0m \u001b[0;34m\u001b[0m\u001b[0m\n\u001b[1;32m   1267\u001b[0m         \u001b[0;32mreturn\u001b[0m \u001b[0mresult\u001b[0m\u001b[0;34m\u001b[0m\u001b[0m\n",
      "\u001b[0;32m~/anaconda3/lib/python3.6/site-packages/pandas/core/algorithms.py\u001b[0m in \u001b[0;36munique\u001b[0;34m(values)\u001b[0m\n\u001b[1;32m    397\u001b[0m \u001b[0;34m\u001b[0m\u001b[0m\n\u001b[1;32m    398\u001b[0m     \u001b[0mtable\u001b[0m \u001b[0;34m=\u001b[0m \u001b[0mhtable\u001b[0m\u001b[0;34m(\u001b[0m\u001b[0mlen\u001b[0m\u001b[0;34m(\u001b[0m\u001b[0mvalues\u001b[0m\u001b[0;34m)\u001b[0m\u001b[0;34m)\u001b[0m\u001b[0;34m\u001b[0m\u001b[0m\n\u001b[0;32m--> 399\u001b[0;31m     \u001b[0muniques\u001b[0m \u001b[0;34m=\u001b[0m \u001b[0mtable\u001b[0m\u001b[0;34m.\u001b[0m\u001b[0munique\u001b[0m\u001b[0;34m(\u001b[0m\u001b[0mvalues\u001b[0m\u001b[0;34m)\u001b[0m\u001b[0;34m\u001b[0m\u001b[0m\n\u001b[0m\u001b[1;32m    400\u001b[0m     \u001b[0muniques\u001b[0m \u001b[0;34m=\u001b[0m \u001b[0m_reconstruct_data\u001b[0m\u001b[0;34m(\u001b[0m\u001b[0muniques\u001b[0m\u001b[0;34m,\u001b[0m \u001b[0moriginal\u001b[0m\u001b[0;34m.\u001b[0m\u001b[0mdtype\u001b[0m\u001b[0;34m,\u001b[0m \u001b[0moriginal\u001b[0m\u001b[0;34m)\u001b[0m\u001b[0;34m\u001b[0m\u001b[0m\n\u001b[1;32m    401\u001b[0m     \u001b[0;32mreturn\u001b[0m \u001b[0muniques\u001b[0m\u001b[0;34m\u001b[0m\u001b[0m\n",
      "\u001b[0;32mpandas/_libs/hashtable_class_helper.pxi\u001b[0m in \u001b[0;36mpandas._libs.hashtable.PyObjectHashTable.unique\u001b[0;34m()\u001b[0m\n",
      "\u001b[0;32mpandas/_libs/hashtable_class_helper.pxi\u001b[0m in \u001b[0;36mpandas._libs.hashtable.PyObjectHashTable._unique\u001b[0;34m()\u001b[0m\n",
      "\u001b[0;31mTypeError\u001b[0m: unhashable type: 'list'"
     ]
    }
   ],
   "source": [
    "for i in cfns.columns:\n",
    "    u = cfns[i].unique()\n",
    "    if len(u) < 10:\n",
    "        print(i, u)\n",
    "    else: print(i)"
   ]
  },
  {
   "cell_type": "code",
   "execution_count": null,
   "metadata": {},
   "outputs": [
    {
     "data": {
      "text/html": [
       "<div>\n",
       "<style scoped>\n",
       "    .dataframe tbody tr th:only-of-type {\n",
       "        vertical-align: middle;\n",
       "    }\n",
       "\n",
       "    .dataframe tbody tr th {\n",
       "        vertical-align: top;\n",
       "    }\n",
       "\n",
       "    .dataframe thead th {\n",
       "        text-align: right;\n",
       "    }\n",
       "</style>\n",
       "<table border=\"1\" class=\"dataframe\">\n",
       "  <thead>\n",
       "    <tr style=\"text-align: right;\">\n",
       "      <th></th>\n",
       "      <th>classifications.Annotator</th>\n",
       "      <th>classifications.Annotation Status</th>\n",
       "      <th>classifications.Reviewer</th>\n",
       "      <th>classifications.Quality Control</th>\n",
       "      <th>classifications.Full Description</th>\n",
       "      <th>classifications.Short Description</th>\n",
       "      <th>classifications.Beginning Date</th>\n",
       "      <th>classifications.Ending Date</th>\n",
       "      <th>classifications.Location</th>\n",
       "      <th>classifications.Near Miss</th>\n",
       "      <th>...</th>\n",
       "      <th>classifications.Sector of Deployment</th>\n",
       "      <th>classifications.Public Sector Deployment</th>\n",
       "      <th>classifications.Nature of End User</th>\n",
       "      <th>classifications.Level of Autonomy</th>\n",
       "      <th>classifications.Relevant AI functions</th>\n",
       "      <th>classifications.AI Techniques</th>\n",
       "      <th>classifications.AI Applications</th>\n",
       "      <th>classifications.Physical System</th>\n",
       "      <th>classifications.Problem Nature</th>\n",
       "      <th>classifications.Publish</th>\n",
       "    </tr>\n",
       "  </thead>\n",
       "  <tbody>\n",
       "    <tr>\n",
       "      <th>0</th>\n",
       "      <td>1</td>\n",
       "      <td>6. Complete and final</td>\n",
       "      <td>5</td>\n",
       "      <td>False</td>\n",
       "      <td>On December 5, 2018, a robot punctured a can o...</td>\n",
       "      <td>Twenty-four Amazon workers in New Jersey were ...</td>\n",
       "      <td>2018-12-05T08:00:00.000Z</td>\n",
       "      <td>2018-12-05T08:00:00.000Z</td>\n",
       "      <td>Robbinsville, NJ</td>\n",
       "      <td>Harm caused</td>\n",
       "      <td>...</td>\n",
       "      <td>Transportation and storage</td>\n",
       "      <td>False</td>\n",
       "      <td>NaN</td>\n",
       "      <td>Unclear/unknown</td>\n",
       "      <td>[\"Unclear\"]</td>\n",
       "      <td>NaN</td>\n",
       "      <td>[\"robotics\"]</td>\n",
       "      <td>[\"Unknown/unclear\"]</td>\n",
       "      <td>[\"Unknown/unclear\"]</td>\n",
       "      <td>True</td>\n",
       "    </tr>\n",
       "  </tbody>\n",
       "</table>\n",
       "<p>1 rows × 33 columns</p>\n",
       "</div>"
      ],
      "text/plain": [
       "   classifications.Annotator classifications.Annotation Status  \\\n",
       "0                          1             6. Complete and final   \n",
       "\n",
       "   classifications.Reviewer  classifications.Quality Control  \\\n",
       "0                         5                            False   \n",
       "\n",
       "                    classifications.Full Description  \\\n",
       "0  On December 5, 2018, a robot punctured a can o...   \n",
       "\n",
       "                   classifications.Short Description  \\\n",
       "0  Twenty-four Amazon workers in New Jersey were ...   \n",
       "\n",
       "  classifications.Beginning Date classifications.Ending Date  \\\n",
       "0       2018-12-05T08:00:00.000Z    2018-12-05T08:00:00.000Z   \n",
       "\n",
       "  classifications.Location classifications.Near Miss  ...  \\\n",
       "0         Robbinsville, NJ               Harm caused  ...   \n",
       "\n",
       "  classifications.Sector of Deployment  \\\n",
       "0           Transportation and storage   \n",
       "\n",
       "  classifications.Public Sector Deployment classifications.Nature of End User  \\\n",
       "0                                    False                                NaN   \n",
       "\n",
       "  classifications.Level of Autonomy  classifications.Relevant AI functions  \\\n",
       "0                   Unclear/unknown                            [\"Unclear\"]   \n",
       "\n",
       "  classifications.AI Techniques classifications.AI Applications  \\\n",
       "0                           NaN                    [\"robotics\"]   \n",
       "\n",
       "  classifications.Physical System classifications.Problem Nature  \\\n",
       "0             [\"Unknown/unclear\"]            [\"Unknown/unclear\"]   \n",
       "\n",
       "  classifications.Publish  \n",
       "0                    True  \n",
       "\n",
       "[1 rows x 33 columns]"
      ]
     },
     "execution_count": 22,
     "metadata": {},
     "output_type": "execute_result"
    }
   ],
   "source": [
    "cfns.head(1)"
   ]
  },
  {
   "cell_type": "code",
   "execution_count": 12,
   "metadata": {},
   "outputs": [
    {
     "ename": "KeyError",
     "evalue": "'classifications.Harm Type'",
     "output_type": "error",
     "traceback": [
      "\u001b[0;31m---------------------------------------------------------------------------\u001b[0m",
      "\u001b[0;31mKeyError\u001b[0m                                  Traceback (most recent call last)",
      "\u001b[0;32m~/anaconda3/lib/python3.6/site-packages/pandas/core/indexes/base.py\u001b[0m in \u001b[0;36mget_loc\u001b[0;34m(self, key, method, tolerance)\u001b[0m\n\u001b[1;32m   2897\u001b[0m             \u001b[0;32mtry\u001b[0m\u001b[0;34m:\u001b[0m\u001b[0;34m\u001b[0m\u001b[0m\n\u001b[0;32m-> 2898\u001b[0;31m                 \u001b[0;32mreturn\u001b[0m \u001b[0mself\u001b[0m\u001b[0;34m.\u001b[0m\u001b[0m_engine\u001b[0m\u001b[0;34m.\u001b[0m\u001b[0mget_loc\u001b[0m\u001b[0;34m(\u001b[0m\u001b[0mcasted_key\u001b[0m\u001b[0;34m)\u001b[0m\u001b[0;34m\u001b[0m\u001b[0m\n\u001b[0m\u001b[1;32m   2899\u001b[0m             \u001b[0;32mexcept\u001b[0m \u001b[0mKeyError\u001b[0m \u001b[0;32mas\u001b[0m \u001b[0merr\u001b[0m\u001b[0;34m:\u001b[0m\u001b[0;34m\u001b[0m\u001b[0m\n",
      "\u001b[0;32mpandas/_libs/index.pyx\u001b[0m in \u001b[0;36mpandas._libs.index.IndexEngine.get_loc\u001b[0;34m()\u001b[0m\n",
      "\u001b[0;32mpandas/_libs/index.pyx\u001b[0m in \u001b[0;36mpandas._libs.index.IndexEngine.get_loc\u001b[0;34m()\u001b[0m\n",
      "\u001b[0;32mpandas/_libs/hashtable_class_helper.pxi\u001b[0m in \u001b[0;36mpandas._libs.hashtable.PyObjectHashTable.get_item\u001b[0;34m()\u001b[0m\n",
      "\u001b[0;32mpandas/_libs/hashtable_class_helper.pxi\u001b[0m in \u001b[0;36mpandas._libs.hashtable.PyObjectHashTable.get_item\u001b[0;34m()\u001b[0m\n",
      "\u001b[0;31mKeyError\u001b[0m: 'classifications.Harm Type'",
      "\nThe above exception was the direct cause of the following exception:\n",
      "\u001b[0;31mKeyError\u001b[0m                                  Traceback (most recent call last)",
      "\u001b[0;32m<ipython-input-12-40d0003fe390>\u001b[0m in \u001b[0;36m<module>\u001b[0;34m()\u001b[0m\n\u001b[0;32m----> 1\u001b[0;31m \u001b[0ms\u001b[0m \u001b[0;34m=\u001b[0m \u001b[0mcfns\u001b[0m\u001b[0;34m[\u001b[0m\u001b[0;34m'classifications.Harm Type'\u001b[0m\u001b[0;34m]\u001b[0m\u001b[0;34m.\u001b[0m\u001b[0mvalue_counts\u001b[0m\u001b[0;34m(\u001b[0m\u001b[0;34m)\u001b[0m\u001b[0;34m\u001b[0m\u001b[0m\n\u001b[0m\u001b[1;32m      2\u001b[0m \u001b[0mq\u001b[0m \u001b[0;34m=\u001b[0m \u001b[0mnp\u001b[0m\u001b[0;34m.\u001b[0m\u001b[0mpercentile\u001b[0m\u001b[0;34m(\u001b[0m\u001b[0ms\u001b[0m\u001b[0;34m,\u001b[0m \u001b[0;36m50\u001b[0m\u001b[0;34m)\u001b[0m\u001b[0;34m\u001b[0m\u001b[0m\n\u001b[1;32m      3\u001b[0m \u001b[0ms\u001b[0m\u001b[0;34m[\u001b[0m\u001b[0ms\u001b[0m \u001b[0;34m>\u001b[0m \u001b[0mq\u001b[0m\u001b[0;34m]\u001b[0m\u001b[0;34m.\u001b[0m\u001b[0mindex\u001b[0m\u001b[0;34m\u001b[0m\u001b[0m\n",
      "\u001b[0;32m~/anaconda3/lib/python3.6/site-packages/pandas/core/frame.py\u001b[0m in \u001b[0;36m__getitem__\u001b[0;34m(self, key)\u001b[0m\n\u001b[1;32m   2904\u001b[0m             \u001b[0;32mif\u001b[0m \u001b[0mself\u001b[0m\u001b[0;34m.\u001b[0m\u001b[0mcolumns\u001b[0m\u001b[0;34m.\u001b[0m\u001b[0mnlevels\u001b[0m \u001b[0;34m>\u001b[0m \u001b[0;36m1\u001b[0m\u001b[0;34m:\u001b[0m\u001b[0;34m\u001b[0m\u001b[0m\n\u001b[1;32m   2905\u001b[0m                 \u001b[0;32mreturn\u001b[0m \u001b[0mself\u001b[0m\u001b[0;34m.\u001b[0m\u001b[0m_getitem_multilevel\u001b[0m\u001b[0;34m(\u001b[0m\u001b[0mkey\u001b[0m\u001b[0;34m)\u001b[0m\u001b[0;34m\u001b[0m\u001b[0m\n\u001b[0;32m-> 2906\u001b[0;31m             \u001b[0mindexer\u001b[0m \u001b[0;34m=\u001b[0m \u001b[0mself\u001b[0m\u001b[0;34m.\u001b[0m\u001b[0mcolumns\u001b[0m\u001b[0;34m.\u001b[0m\u001b[0mget_loc\u001b[0m\u001b[0;34m(\u001b[0m\u001b[0mkey\u001b[0m\u001b[0;34m)\u001b[0m\u001b[0;34m\u001b[0m\u001b[0m\n\u001b[0m\u001b[1;32m   2907\u001b[0m             \u001b[0;32mif\u001b[0m \u001b[0mis_integer\u001b[0m\u001b[0;34m(\u001b[0m\u001b[0mindexer\u001b[0m\u001b[0;34m)\u001b[0m\u001b[0;34m:\u001b[0m\u001b[0;34m\u001b[0m\u001b[0m\n\u001b[1;32m   2908\u001b[0m                 \u001b[0mindexer\u001b[0m \u001b[0;34m=\u001b[0m \u001b[0;34m[\u001b[0m\u001b[0mindexer\u001b[0m\u001b[0;34m]\u001b[0m\u001b[0;34m\u001b[0m\u001b[0m\n",
      "\u001b[0;32m~/anaconda3/lib/python3.6/site-packages/pandas/core/indexes/base.py\u001b[0m in \u001b[0;36mget_loc\u001b[0;34m(self, key, method, tolerance)\u001b[0m\n\u001b[1;32m   2898\u001b[0m                 \u001b[0;32mreturn\u001b[0m \u001b[0mself\u001b[0m\u001b[0;34m.\u001b[0m\u001b[0m_engine\u001b[0m\u001b[0;34m.\u001b[0m\u001b[0mget_loc\u001b[0m\u001b[0;34m(\u001b[0m\u001b[0mcasted_key\u001b[0m\u001b[0;34m)\u001b[0m\u001b[0;34m\u001b[0m\u001b[0m\n\u001b[1;32m   2899\u001b[0m             \u001b[0;32mexcept\u001b[0m \u001b[0mKeyError\u001b[0m \u001b[0;32mas\u001b[0m \u001b[0merr\u001b[0m\u001b[0;34m:\u001b[0m\u001b[0;34m\u001b[0m\u001b[0m\n\u001b[0;32m-> 2900\u001b[0;31m                 \u001b[0;32mraise\u001b[0m \u001b[0mKeyError\u001b[0m\u001b[0;34m(\u001b[0m\u001b[0mkey\u001b[0m\u001b[0;34m)\u001b[0m \u001b[0;32mfrom\u001b[0m \u001b[0merr\u001b[0m\u001b[0;34m\u001b[0m\u001b[0m\n\u001b[0m\u001b[1;32m   2901\u001b[0m \u001b[0;34m\u001b[0m\u001b[0m\n\u001b[1;32m   2902\u001b[0m         \u001b[0;32mif\u001b[0m \u001b[0mtolerance\u001b[0m \u001b[0;32mis\u001b[0m \u001b[0;32mnot\u001b[0m \u001b[0;32mNone\u001b[0m\u001b[0;34m:\u001b[0m\u001b[0;34m\u001b[0m\u001b[0m\n",
      "\u001b[0;31mKeyError\u001b[0m: 'classifications.Harm Type'"
     ]
    }
   ],
   "source": [
    "s = cfns['classifications.Harm Type'].value_counts()\n",
    "q = np.percentile(s, 50)\n",
    "s[s > q].index"
   ]
  },
  {
   "cell_type": "code",
   "execution_count": 13,
   "metadata": {},
   "outputs": [
    {
     "ename": "KeyError",
     "evalue": "'classifications.Harm Type'",
     "output_type": "error",
     "traceback": [
      "\u001b[0;31m---------------------------------------------------------------------------\u001b[0m",
      "\u001b[0;31mKeyError\u001b[0m                                  Traceback (most recent call last)",
      "\u001b[0;32m~/anaconda3/lib/python3.6/site-packages/pandas/core/indexes/base.py\u001b[0m in \u001b[0;36mget_loc\u001b[0;34m(self, key, method, tolerance)\u001b[0m\n\u001b[1;32m   2897\u001b[0m             \u001b[0;32mtry\u001b[0m\u001b[0;34m:\u001b[0m\u001b[0;34m\u001b[0m\u001b[0m\n\u001b[0;32m-> 2898\u001b[0;31m                 \u001b[0;32mreturn\u001b[0m \u001b[0mself\u001b[0m\u001b[0;34m.\u001b[0m\u001b[0m_engine\u001b[0m\u001b[0;34m.\u001b[0m\u001b[0mget_loc\u001b[0m\u001b[0;34m(\u001b[0m\u001b[0mcasted_key\u001b[0m\u001b[0;34m)\u001b[0m\u001b[0;34m\u001b[0m\u001b[0m\n\u001b[0m\u001b[1;32m   2899\u001b[0m             \u001b[0;32mexcept\u001b[0m \u001b[0mKeyError\u001b[0m \u001b[0;32mas\u001b[0m \u001b[0merr\u001b[0m\u001b[0;34m:\u001b[0m\u001b[0;34m\u001b[0m\u001b[0m\n",
      "\u001b[0;32mpandas/_libs/index.pyx\u001b[0m in \u001b[0;36mpandas._libs.index.IndexEngine.get_loc\u001b[0;34m()\u001b[0m\n",
      "\u001b[0;32mpandas/_libs/index.pyx\u001b[0m in \u001b[0;36mpandas._libs.index.IndexEngine.get_loc\u001b[0;34m()\u001b[0m\n",
      "\u001b[0;32mpandas/_libs/hashtable_class_helper.pxi\u001b[0m in \u001b[0;36mpandas._libs.hashtable.PyObjectHashTable.get_item\u001b[0;34m()\u001b[0m\n",
      "\u001b[0;32mpandas/_libs/hashtable_class_helper.pxi\u001b[0m in \u001b[0;36mpandas._libs.hashtable.PyObjectHashTable.get_item\u001b[0;34m()\u001b[0m\n",
      "\u001b[0;31mKeyError\u001b[0m: 'classifications.Harm Type'",
      "\nThe above exception was the direct cause of the following exception:\n",
      "\u001b[0;31mKeyError\u001b[0m                                  Traceback (most recent call last)",
      "\u001b[0;32m<ipython-input-13-27010e4e70ed>\u001b[0m in \u001b[0;36m<module>\u001b[0;34m()\u001b[0m\n\u001b[0;32m----> 1\u001b[0;31m \u001b[0ms\u001b[0m \u001b[0;34m=\u001b[0m \u001b[0mcfns\u001b[0m\u001b[0;34m[\u001b[0m\u001b[0;34m'classifications.Harm Type'\u001b[0m\u001b[0;34m]\u001b[0m\u001b[0;34m.\u001b[0m\u001b[0mapply\u001b[0m\u001b[0;34m(\u001b[0m\u001b[0meval\u001b[0m\u001b[0;34m)\u001b[0m\u001b[0;34m.\u001b[0m\u001b[0mapply\u001b[0m\u001b[0;34m(\u001b[0m\u001b[0mpd\u001b[0m\u001b[0;34m.\u001b[0m\u001b[0mSeries\u001b[0m\u001b[0;34m)\u001b[0m\u001b[0;34m.\u001b[0m\u001b[0mstack\u001b[0m\u001b[0;34m(\u001b[0m\u001b[0;34m)\u001b[0m\u001b[0;34m.\u001b[0m\u001b[0mvalue_counts\u001b[0m\u001b[0;34m(\u001b[0m\u001b[0;34m)\u001b[0m\u001b[0;34m\u001b[0m\u001b[0m\n\u001b[0m\u001b[1;32m      2\u001b[0m \u001b[0mq\u001b[0m \u001b[0;34m=\u001b[0m \u001b[0mnp\u001b[0m\u001b[0;34m.\u001b[0m\u001b[0mpercentile\u001b[0m\u001b[0;34m(\u001b[0m\u001b[0ms\u001b[0m\u001b[0;34m,\u001b[0m \u001b[0;36m50\u001b[0m\u001b[0;34m)\u001b[0m\u001b[0;34m\u001b[0m\u001b[0m\n\u001b[1;32m      3\u001b[0m \u001b[0ms\u001b[0m\u001b[0;34m[\u001b[0m\u001b[0ms\u001b[0m \u001b[0;34m>\u001b[0m \u001b[0mq\u001b[0m\u001b[0;34m]\u001b[0m\u001b[0;34m.\u001b[0m\u001b[0mindex\u001b[0m\u001b[0;34m\u001b[0m\u001b[0m\n",
      "\u001b[0;32m~/anaconda3/lib/python3.6/site-packages/pandas/core/frame.py\u001b[0m in \u001b[0;36m__getitem__\u001b[0;34m(self, key)\u001b[0m\n\u001b[1;32m   2904\u001b[0m             \u001b[0;32mif\u001b[0m \u001b[0mself\u001b[0m\u001b[0;34m.\u001b[0m\u001b[0mcolumns\u001b[0m\u001b[0;34m.\u001b[0m\u001b[0mnlevels\u001b[0m \u001b[0;34m>\u001b[0m \u001b[0;36m1\u001b[0m\u001b[0;34m:\u001b[0m\u001b[0;34m\u001b[0m\u001b[0m\n\u001b[1;32m   2905\u001b[0m                 \u001b[0;32mreturn\u001b[0m \u001b[0mself\u001b[0m\u001b[0;34m.\u001b[0m\u001b[0m_getitem_multilevel\u001b[0m\u001b[0;34m(\u001b[0m\u001b[0mkey\u001b[0m\u001b[0;34m)\u001b[0m\u001b[0;34m\u001b[0m\u001b[0m\n\u001b[0;32m-> 2906\u001b[0;31m             \u001b[0mindexer\u001b[0m \u001b[0;34m=\u001b[0m \u001b[0mself\u001b[0m\u001b[0;34m.\u001b[0m\u001b[0mcolumns\u001b[0m\u001b[0;34m.\u001b[0m\u001b[0mget_loc\u001b[0m\u001b[0;34m(\u001b[0m\u001b[0mkey\u001b[0m\u001b[0;34m)\u001b[0m\u001b[0;34m\u001b[0m\u001b[0m\n\u001b[0m\u001b[1;32m   2907\u001b[0m             \u001b[0;32mif\u001b[0m \u001b[0mis_integer\u001b[0m\u001b[0;34m(\u001b[0m\u001b[0mindexer\u001b[0m\u001b[0;34m)\u001b[0m\u001b[0;34m:\u001b[0m\u001b[0;34m\u001b[0m\u001b[0m\n\u001b[1;32m   2908\u001b[0m                 \u001b[0mindexer\u001b[0m \u001b[0;34m=\u001b[0m \u001b[0;34m[\u001b[0m\u001b[0mindexer\u001b[0m\u001b[0;34m]\u001b[0m\u001b[0;34m\u001b[0m\u001b[0m\n",
      "\u001b[0;32m~/anaconda3/lib/python3.6/site-packages/pandas/core/indexes/base.py\u001b[0m in \u001b[0;36mget_loc\u001b[0;34m(self, key, method, tolerance)\u001b[0m\n\u001b[1;32m   2898\u001b[0m                 \u001b[0;32mreturn\u001b[0m \u001b[0mself\u001b[0m\u001b[0;34m.\u001b[0m\u001b[0m_engine\u001b[0m\u001b[0;34m.\u001b[0m\u001b[0mget_loc\u001b[0m\u001b[0;34m(\u001b[0m\u001b[0mcasted_key\u001b[0m\u001b[0;34m)\u001b[0m\u001b[0;34m\u001b[0m\u001b[0m\n\u001b[1;32m   2899\u001b[0m             \u001b[0;32mexcept\u001b[0m \u001b[0mKeyError\u001b[0m \u001b[0;32mas\u001b[0m \u001b[0merr\u001b[0m\u001b[0;34m:\u001b[0m\u001b[0;34m\u001b[0m\u001b[0m\n\u001b[0;32m-> 2900\u001b[0;31m                 \u001b[0;32mraise\u001b[0m \u001b[0mKeyError\u001b[0m\u001b[0;34m(\u001b[0m\u001b[0mkey\u001b[0m\u001b[0;34m)\u001b[0m \u001b[0;32mfrom\u001b[0m \u001b[0merr\u001b[0m\u001b[0;34m\u001b[0m\u001b[0m\n\u001b[0m\u001b[1;32m   2901\u001b[0m \u001b[0;34m\u001b[0m\u001b[0m\n\u001b[1;32m   2902\u001b[0m         \u001b[0;32mif\u001b[0m \u001b[0mtolerance\u001b[0m \u001b[0;32mis\u001b[0m \u001b[0;32mnot\u001b[0m \u001b[0;32mNone\u001b[0m\u001b[0;34m:\u001b[0m\u001b[0;34m\u001b[0m\u001b[0m\n",
      "\u001b[0;31mKeyError\u001b[0m: 'classifications.Harm Type'"
     ]
    }
   ],
   "source": [
    "s = cfns['classifications.Harm Type'].apply(eval).apply(pd.Series).stack().value_counts()\n",
    "q = np.percentile(s, 50)\n",
    "s[s > q].index"
   ]
  },
  {
   "cell_type": "code",
   "execution_count": 14,
   "metadata": {},
   "outputs": [
    {
     "ename": "NameError",
     "evalue": "name 's' is not defined",
     "output_type": "error",
     "traceback": [
      "\u001b[0;31m---------------------------------------------------------------------------\u001b[0m",
      "\u001b[0;31mNameError\u001b[0m                                 Traceback (most recent call last)",
      "\u001b[0;32m<ipython-input-14-ded5ba42480f>\u001b[0m in \u001b[0;36m<module>\u001b[0;34m()\u001b[0m\n\u001b[0;32m----> 1\u001b[0;31m \u001b[0ms\u001b[0m\u001b[0;34m\u001b[0m\u001b[0m\n\u001b[0m",
      "\u001b[0;31mNameError\u001b[0m: name 's' is not defined"
     ]
    }
   ],
   "source": [
    "s"
   ]
  },
  {
   "cell_type": "code",
   "execution_count": 15,
   "metadata": {},
   "outputs": [
    {
     "name": "stdout",
     "output_type": "stream",
     "text": [
      "<class 'pandas.core.frame.DataFrame'>\n",
      "RangeIndex: 96 entries, 0 to 95\n",
      "Data columns (total 33 columns):\n",
      " #   Column                    Non-Null Count  Dtype \n",
      "---  ------                    --------------  ----- \n",
      " 0   annotator                 96 non-null     int64 \n",
      " 1   annotation_status         96 non-null     object\n",
      " 2   reviewer                  96 non-null     int64 \n",
      " 3   quality_control           96 non-null     bool  \n",
      " 4   full_description          96 non-null     object\n",
      " 5   short_description         96 non-null     object\n",
      " 6   beginning_date            95 non-null     object\n",
      " 7   ending_date               94 non-null     object\n",
      " 8   location                  79 non-null     object\n",
      " 9   near_miss                 96 non-null     object\n",
      " 10  named_entities            96 non-null     object\n",
      " 11  technology_purveyor       96 non-null     object\n",
      " 12  intent                    96 non-null     object\n",
      " 13  severity                  96 non-null     object\n",
      " 14  lives_lost                96 non-null     bool  \n",
      " 15  harm_distribution_basis   96 non-null     object\n",
      " 16  harm_type                 96 non-null     object\n",
      " 17  infrastructure_sectors    96 non-null     object\n",
      " 18  financial_cost            3 non-null      object\n",
      " 19  laws_implicated           13 non-null     object\n",
      " 20  ai_system_description     89 non-null     object\n",
      " 21  data_inputs               85 non-null     object\n",
      " 22  system_developer          83 non-null     object\n",
      " 23  sector_of_deployment      89 non-null     object\n",
      " 24  public_sector_deployment  96 non-null     bool  \n",
      " 25  nature_of_end_user        87 non-null     object\n",
      " 26  level_of_autonomy         87 non-null     object\n",
      " 27  relevant_ai_functions     96 non-null     object\n",
      " 28  ai_techniques             86 non-null     object\n",
      " 29  ai_applications           96 non-null     object\n",
      " 30  physical_system           96 non-null     object\n",
      " 31  problem_nature            96 non-null     object\n",
      " 32  publish                   96 non-null     bool  \n",
      "dtypes: bool(4), int64(2), object(27)\n",
      "memory usage: 22.2+ KB\n"
     ]
    }
   ],
   "source": [
    "cfns.info()"
   ]
  },
  {
   "cell_type": "code",
   "execution_count": null,
   "metadata": {},
   "outputs": [],
   "source": []
  }
 ],
 "metadata": {
  "interpreter": {
   "hash": "56aea8ebaf76f7f196d2db5e8a268a910aadc3b544f7ba289fa452b9f4417b9b"
  },
  "kernelspec": {
   "display_name": "Python 3.6.4 64-bit ('base': conda)",
   "name": "python3"
  },
  "language_info": {
   "codemirror_mode": {
    "name": "ipython",
    "version": 3
   },
   "file_extension": ".py",
   "mimetype": "text/x-python",
   "name": "python",
   "nbconvert_exporter": "python",
   "pygments_lexer": "ipython3",
   "version": "3.6.4"
  },
  "widgets": {
   "application/vnd.jupyter.widget-state+json": {
    "state": {},
    "version_major": 2,
    "version_minor": 0
   }
  }
 },
 "nbformat": 4,
 "nbformat_minor": 4
}
